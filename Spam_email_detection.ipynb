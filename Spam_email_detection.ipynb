{
  "nbformat": 4,
  "nbformat_minor": 0,
  "metadata": {
    "colab": {
      "name": "Spam email detection.ipynb",
      "provenance": [],
      "collapsed_sections": [],
      "toc_visible": true,
      "authorship_tag": "ABX9TyM+DsQ/dwOhkbM3kEF/Zf1/",
      "include_colab_link": true
    },
    "kernelspec": {
      "name": "python3",
      "display_name": "Python 3"
    },
    "language_info": {
      "name": "python"
    }
  },
  "cells": [
    {
      "cell_type": "markdown",
      "metadata": {
        "id": "view-in-github",
        "colab_type": "text"
      },
      "source": [
        "<a href=\"https://colab.research.google.com/github/sha863/MSc-Dissertation-2022/blob/main/Spam_email_detection.ipynb\" target=\"_parent\"><img src=\"https://colab.research.google.com/assets/colab-badge.svg\" alt=\"Open In Colab\"/></a>"
      ]
    },
    {
      "cell_type": "code",
      "execution_count": 118,
      "metadata": {
        "colab": {
          "base_uri": "https://localhost:8080/"
        },
        "id": "gJk0NhFDkSXz",
        "outputId": "61377692-d6b0-46b6-bf77-9539749e2a67"
      },
      "outputs": [
        {
          "output_type": "stream",
          "name": "stdout",
          "text": [
            "Requirement already satisfied: nltk in /usr/local/lib/python3.7/dist-packages (3.2.5)\n",
            "Requirement already satisfied: six in /usr/local/lib/python3.7/dist-packages (from nltk) (1.15.0)\n"
          ]
        }
      ],
      "source": [
        "pip install nltk"
      ]
    },
    {
      "cell_type": "code",
      "source": [
        "import numpy as np\n",
        "import pandas as pd\n",
        "import re\n",
        "import string\n",
        "import math\n",
        "import seaborn as sns\n",
        "from google.colab import data_table\n",
        "data_table.enable_dataframe_formatter()\n"
      ],
      "metadata": {
        "id": "SbxnVEAbkrWi"
      },
      "execution_count": 119,
      "outputs": []
    },
    {
      "cell_type": "markdown",
      "source": [
        "[Source of data](https://www.kaggle.com/team-ai/spam-text-message-classification)"
      ],
      "metadata": {
        "id": "c-wQ0V02-e-f"
      }
    },
    {
      "cell_type": "code",
      "source": [
        "data = pd.read_csv('spam.csv',encoding='latin-1')"
      ],
      "metadata": {
        "id": "Q-qsP85ihY0o"
      },
      "execution_count": 120,
      "outputs": []
    },
    {
      "cell_type": "code",
      "source": [
        "data.head()"
      ],
      "metadata": {
        "colab": {
          "base_uri": "https://localhost:8080/",
          "height": 230
        },
        "id": "jMSRJOgYqyiJ",
        "outputId": "4bf68be7-fa4e-4e59-f10b-dfcb2842e4de"
      },
      "execution_count": 121,
      "outputs": [
        {
          "output_type": "execute_result",
          "data": {
            "text/plain": [
              "     v1                                                 v2 Unnamed: 2  \\\n",
              "0   ham  Go until jurong point, crazy.. Available only ...        NaN   \n",
              "1   ham                      Ok lar... Joking wif u oni...        NaN   \n",
              "2  spam  Free entry in 2 a wkly comp to win FA Cup fina...        NaN   \n",
              "3   ham  U dun say so early hor... U c already then say...        NaN   \n",
              "4   ham  Nah I don't think he goes to usf, he lives aro...        NaN   \n",
              "\n",
              "  Unnamed: 3 Unnamed: 4  \n",
              "0        NaN        NaN  \n",
              "1        NaN        NaN  \n",
              "2        NaN        NaN  \n",
              "3        NaN        NaN  \n",
              "4        NaN        NaN  "
            ],
            "text/html": [
              "\n",
              "  <div id=\"df-be2c51f8-f779-4149-84b0-1f55aeae6e6e\">\n",
              "    <div class=\"colab-df-container\">\n",
              "      <div>\n",
              "<style scoped>\n",
              "    .dataframe tbody tr th:only-of-type {\n",
              "        vertical-align: middle;\n",
              "    }\n",
              "\n",
              "    .dataframe tbody tr th {\n",
              "        vertical-align: top;\n",
              "    }\n",
              "\n",
              "    .dataframe thead th {\n",
              "        text-align: right;\n",
              "    }\n",
              "</style>\n",
              "<table border=\"1\" class=\"dataframe\">\n",
              "  <thead>\n",
              "    <tr style=\"text-align: right;\">\n",
              "      <th></th>\n",
              "      <th>v1</th>\n",
              "      <th>v2</th>\n",
              "      <th>Unnamed: 2</th>\n",
              "      <th>Unnamed: 3</th>\n",
              "      <th>Unnamed: 4</th>\n",
              "    </tr>\n",
              "  </thead>\n",
              "  <tbody>\n",
              "    <tr>\n",
              "      <th>0</th>\n",
              "      <td>ham</td>\n",
              "      <td>Go until jurong point, crazy.. Available only ...</td>\n",
              "      <td>NaN</td>\n",
              "      <td>NaN</td>\n",
              "      <td>NaN</td>\n",
              "    </tr>\n",
              "    <tr>\n",
              "      <th>1</th>\n",
              "      <td>ham</td>\n",
              "      <td>Ok lar... Joking wif u oni...</td>\n",
              "      <td>NaN</td>\n",
              "      <td>NaN</td>\n",
              "      <td>NaN</td>\n",
              "    </tr>\n",
              "    <tr>\n",
              "      <th>2</th>\n",
              "      <td>spam</td>\n",
              "      <td>Free entry in 2 a wkly comp to win FA Cup fina...</td>\n",
              "      <td>NaN</td>\n",
              "      <td>NaN</td>\n",
              "      <td>NaN</td>\n",
              "    </tr>\n",
              "    <tr>\n",
              "      <th>3</th>\n",
              "      <td>ham</td>\n",
              "      <td>U dun say so early hor... U c already then say...</td>\n",
              "      <td>NaN</td>\n",
              "      <td>NaN</td>\n",
              "      <td>NaN</td>\n",
              "    </tr>\n",
              "    <tr>\n",
              "      <th>4</th>\n",
              "      <td>ham</td>\n",
              "      <td>Nah I don't think he goes to usf, he lives aro...</td>\n",
              "      <td>NaN</td>\n",
              "      <td>NaN</td>\n",
              "      <td>NaN</td>\n",
              "    </tr>\n",
              "  </tbody>\n",
              "</table>\n",
              "</div>\n",
              "      <button class=\"colab-df-convert\" onclick=\"convertToInteractive('df-be2c51f8-f779-4149-84b0-1f55aeae6e6e')\"\n",
              "              title=\"Convert this dataframe to an interactive table.\"\n",
              "              style=\"display:none;\">\n",
              "        \n",
              "  <svg xmlns=\"http://www.w3.org/2000/svg\" height=\"24px\"viewBox=\"0 0 24 24\"\n",
              "       width=\"24px\">\n",
              "    <path d=\"M0 0h24v24H0V0z\" fill=\"none\"/>\n",
              "    <path d=\"M18.56 5.44l.94 2.06.94-2.06 2.06-.94-2.06-.94-.94-2.06-.94 2.06-2.06.94zm-11 1L8.5 8.5l.94-2.06 2.06-.94-2.06-.94L8.5 2.5l-.94 2.06-2.06.94zm10 10l.94 2.06.94-2.06 2.06-.94-2.06-.94-.94-2.06-.94 2.06-2.06.94z\"/><path d=\"M17.41 7.96l-1.37-1.37c-.4-.4-.92-.59-1.43-.59-.52 0-1.04.2-1.43.59L10.3 9.45l-7.72 7.72c-.78.78-.78 2.05 0 2.83L4 21.41c.39.39.9.59 1.41.59.51 0 1.02-.2 1.41-.59l7.78-7.78 2.81-2.81c.8-.78.8-2.07 0-2.86zM5.41 20L4 18.59l7.72-7.72 1.47 1.35L5.41 20z\"/>\n",
              "  </svg>\n",
              "      </button>\n",
              "      \n",
              "  <style>\n",
              "    .colab-df-container {\n",
              "      display:flex;\n",
              "      flex-wrap:wrap;\n",
              "      gap: 12px;\n",
              "    }\n",
              "\n",
              "    .colab-df-convert {\n",
              "      background-color: #E8F0FE;\n",
              "      border: none;\n",
              "      border-radius: 50%;\n",
              "      cursor: pointer;\n",
              "      display: none;\n",
              "      fill: #1967D2;\n",
              "      height: 32px;\n",
              "      padding: 0 0 0 0;\n",
              "      width: 32px;\n",
              "    }\n",
              "\n",
              "    .colab-df-convert:hover {\n",
              "      background-color: #E2EBFA;\n",
              "      box-shadow: 0px 1px 2px rgba(60, 64, 67, 0.3), 0px 1px 3px 1px rgba(60, 64, 67, 0.15);\n",
              "      fill: #174EA6;\n",
              "    }\n",
              "\n",
              "    [theme=dark] .colab-df-convert {\n",
              "      background-color: #3B4455;\n",
              "      fill: #D2E3FC;\n",
              "    }\n",
              "\n",
              "    [theme=dark] .colab-df-convert:hover {\n",
              "      background-color: #434B5C;\n",
              "      box-shadow: 0px 1px 3px 1px rgba(0, 0, 0, 0.15);\n",
              "      filter: drop-shadow(0px 1px 2px rgba(0, 0, 0, 0.3));\n",
              "      fill: #FFFFFF;\n",
              "    }\n",
              "  </style>\n",
              "\n",
              "      <script>\n",
              "        const buttonEl =\n",
              "          document.querySelector('#df-be2c51f8-f779-4149-84b0-1f55aeae6e6e button.colab-df-convert');\n",
              "        buttonEl.style.display =\n",
              "          google.colab.kernel.accessAllowed ? 'block' : 'none';\n",
              "\n",
              "        async function convertToInteractive(key) {\n",
              "          const element = document.querySelector('#df-be2c51f8-f779-4149-84b0-1f55aeae6e6e');\n",
              "          const dataTable =\n",
              "            await google.colab.kernel.invokeFunction('convertToInteractive',\n",
              "                                                     [key], {});\n",
              "          if (!dataTable) return;\n",
              "\n",
              "          const docLinkHtml = 'Like what you see? Visit the ' +\n",
              "            '<a target=\"_blank\" href=https://colab.research.google.com/notebooks/data_table.ipynb>data table notebook</a>'\n",
              "            + ' to learn more about interactive tables.';\n",
              "          element.innerHTML = '';\n",
              "          dataTable['output_type'] = 'display_data';\n",
              "          await google.colab.output.renderOutput(dataTable, element);\n",
              "          const docLink = document.createElement('div');\n",
              "          docLink.innerHTML = docLinkHtml;\n",
              "          element.appendChild(docLink);\n",
              "        }\n",
              "      </script>\n",
              "    </div>\n",
              "  </div>\n",
              "  "
            ],
            "application/vnd.google.colaboratory.module+javascript": "\n      import \"https://ssl.gstatic.com/colaboratory/data_table/81f25a011006ed3d/data_table.js\";\n\n      window.createDataTable({\n        data: [[{\n            'v': 0,\n            'f': \"0\",\n        },\n\"ham\",\n\"Go until jurong point, crazy.. Available only in bugis n great world la e buffet... Cine there got amore wat...\",\n{\n            'v': NaN,\n            'f': \"NaN\",\n        },\n{\n            'v': NaN,\n            'f': \"NaN\",\n        },\n{\n            'v': NaN,\n            'f': \"NaN\",\n        }],\n [{\n            'v': 1,\n            'f': \"1\",\n        },\n\"ham\",\n\"Ok lar... Joking wif u oni...\",\n{\n            'v': NaN,\n            'f': \"NaN\",\n        },\n{\n            'v': NaN,\n            'f': \"NaN\",\n        },\n{\n            'v': NaN,\n            'f': \"NaN\",\n        }],\n [{\n            'v': 2,\n            'f': \"2\",\n        },\n\"spam\",\n\"Free entry in 2 a wkly comp to win FA Cup final tkts 21st May 2005. Text FA to 87121 to receive entry question(std txt rate)T&C's apply 08452810075over18's\",\n{\n            'v': NaN,\n            'f': \"NaN\",\n        },\n{\n            'v': NaN,\n            'f': \"NaN\",\n        },\n{\n            'v': NaN,\n            'f': \"NaN\",\n        }],\n [{\n            'v': 3,\n            'f': \"3\",\n        },\n\"ham\",\n\"U dun say so early hor... U c already then say...\",\n{\n            'v': NaN,\n            'f': \"NaN\",\n        },\n{\n            'v': NaN,\n            'f': \"NaN\",\n        },\n{\n            'v': NaN,\n            'f': \"NaN\",\n        }],\n [{\n            'v': 4,\n            'f': \"4\",\n        },\n\"ham\",\n\"Nah I don't think he goes to usf, he lives around here though\",\n{\n            'v': NaN,\n            'f': \"NaN\",\n        },\n{\n            'v': NaN,\n            'f': \"NaN\",\n        },\n{\n            'v': NaN,\n            'f': \"NaN\",\n        }]],\n        columns: [[\"number\", \"index\"], [\"string\", \"v1\"], [\"string\", \"v2\"], [\"number\", \"Unnamed: 2\"], [\"number\", \"Unnamed: 3\"], [\"number\", \"Unnamed: 4\"]],\n        columnOptions: [{\"width\": \"1px\", \"className\": \"index_column\"}],\n        rowsPerPage: 25,\n        helpUrl: \"https://colab.research.google.com/notebooks/data_table.ipynb\",\n        suppressOutputScrolling: true,\n        minimumWidth: undefined,\n      });\n    "
          },
          "metadata": {},
          "execution_count": 121
        }
      ]
    },
    {
      "cell_type": "code",
      "source": [
        "data.describe(include=\"all\")"
      ],
      "metadata": {
        "colab": {
          "base_uri": "https://localhost:8080/",
          "height": 176
        },
        "id": "AhJNLJNnkq9u",
        "outputId": "b166e6e7-0d5e-4e56-f057-e6e482226004"
      },
      "execution_count": 122,
      "outputs": [
        {
          "output_type": "execute_result",
          "data": {
            "text/plain": [
              "          v1                      v2  \\\n",
              "count   5572                    5572   \n",
              "unique     2                    5169   \n",
              "top      ham  Sorry, I'll call later   \n",
              "freq    4825                      30   \n",
              "\n",
              "                                               Unnamed: 2  \\\n",
              "count                                                  50   \n",
              "unique                                                 43   \n",
              "top      bt not his girlfrnd... G o o d n i g h t . . .@\"   \n",
              "freq                                                    3   \n",
              "\n",
              "                   Unnamed: 3 Unnamed: 4  \n",
              "count                      12          6  \n",
              "unique                     10          5  \n",
              "top      MK17 92H. 450Ppw 16\"    GNT:-)\"  \n",
              "freq                        2          2  "
            ],
            "text/html": [
              "\n",
              "  <div id=\"df-c9369f20-8a75-4b2a-890f-32c7c3f88bef\">\n",
              "    <div class=\"colab-df-container\">\n",
              "      <div>\n",
              "<style scoped>\n",
              "    .dataframe tbody tr th:only-of-type {\n",
              "        vertical-align: middle;\n",
              "    }\n",
              "\n",
              "    .dataframe tbody tr th {\n",
              "        vertical-align: top;\n",
              "    }\n",
              "\n",
              "    .dataframe thead th {\n",
              "        text-align: right;\n",
              "    }\n",
              "</style>\n",
              "<table border=\"1\" class=\"dataframe\">\n",
              "  <thead>\n",
              "    <tr style=\"text-align: right;\">\n",
              "      <th></th>\n",
              "      <th>v1</th>\n",
              "      <th>v2</th>\n",
              "      <th>Unnamed: 2</th>\n",
              "      <th>Unnamed: 3</th>\n",
              "      <th>Unnamed: 4</th>\n",
              "    </tr>\n",
              "  </thead>\n",
              "  <tbody>\n",
              "    <tr>\n",
              "      <th>count</th>\n",
              "      <td>5572</td>\n",
              "      <td>5572</td>\n",
              "      <td>50</td>\n",
              "      <td>12</td>\n",
              "      <td>6</td>\n",
              "    </tr>\n",
              "    <tr>\n",
              "      <th>unique</th>\n",
              "      <td>2</td>\n",
              "      <td>5169</td>\n",
              "      <td>43</td>\n",
              "      <td>10</td>\n",
              "      <td>5</td>\n",
              "    </tr>\n",
              "    <tr>\n",
              "      <th>top</th>\n",
              "      <td>ham</td>\n",
              "      <td>Sorry, I'll call later</td>\n",
              "      <td>bt not his girlfrnd... G o o d n i g h t . . .@\"</td>\n",
              "      <td>MK17 92H. 450Ppw 16\"</td>\n",
              "      <td>GNT:-)\"</td>\n",
              "    </tr>\n",
              "    <tr>\n",
              "      <th>freq</th>\n",
              "      <td>4825</td>\n",
              "      <td>30</td>\n",
              "      <td>3</td>\n",
              "      <td>2</td>\n",
              "      <td>2</td>\n",
              "    </tr>\n",
              "  </tbody>\n",
              "</table>\n",
              "</div>\n",
              "      <button class=\"colab-df-convert\" onclick=\"convertToInteractive('df-c9369f20-8a75-4b2a-890f-32c7c3f88bef')\"\n",
              "              title=\"Convert this dataframe to an interactive table.\"\n",
              "              style=\"display:none;\">\n",
              "        \n",
              "  <svg xmlns=\"http://www.w3.org/2000/svg\" height=\"24px\"viewBox=\"0 0 24 24\"\n",
              "       width=\"24px\">\n",
              "    <path d=\"M0 0h24v24H0V0z\" fill=\"none\"/>\n",
              "    <path d=\"M18.56 5.44l.94 2.06.94-2.06 2.06-.94-2.06-.94-.94-2.06-.94 2.06-2.06.94zm-11 1L8.5 8.5l.94-2.06 2.06-.94-2.06-.94L8.5 2.5l-.94 2.06-2.06.94zm10 10l.94 2.06.94-2.06 2.06-.94-2.06-.94-.94-2.06-.94 2.06-2.06.94z\"/><path d=\"M17.41 7.96l-1.37-1.37c-.4-.4-.92-.59-1.43-.59-.52 0-1.04.2-1.43.59L10.3 9.45l-7.72 7.72c-.78.78-.78 2.05 0 2.83L4 21.41c.39.39.9.59 1.41.59.51 0 1.02-.2 1.41-.59l7.78-7.78 2.81-2.81c.8-.78.8-2.07 0-2.86zM5.41 20L4 18.59l7.72-7.72 1.47 1.35L5.41 20z\"/>\n",
              "  </svg>\n",
              "      </button>\n",
              "      \n",
              "  <style>\n",
              "    .colab-df-container {\n",
              "      display:flex;\n",
              "      flex-wrap:wrap;\n",
              "      gap: 12px;\n",
              "    }\n",
              "\n",
              "    .colab-df-convert {\n",
              "      background-color: #E8F0FE;\n",
              "      border: none;\n",
              "      border-radius: 50%;\n",
              "      cursor: pointer;\n",
              "      display: none;\n",
              "      fill: #1967D2;\n",
              "      height: 32px;\n",
              "      padding: 0 0 0 0;\n",
              "      width: 32px;\n",
              "    }\n",
              "\n",
              "    .colab-df-convert:hover {\n",
              "      background-color: #E2EBFA;\n",
              "      box-shadow: 0px 1px 2px rgba(60, 64, 67, 0.3), 0px 1px 3px 1px rgba(60, 64, 67, 0.15);\n",
              "      fill: #174EA6;\n",
              "    }\n",
              "\n",
              "    [theme=dark] .colab-df-convert {\n",
              "      background-color: #3B4455;\n",
              "      fill: #D2E3FC;\n",
              "    }\n",
              "\n",
              "    [theme=dark] .colab-df-convert:hover {\n",
              "      background-color: #434B5C;\n",
              "      box-shadow: 0px 1px 3px 1px rgba(0, 0, 0, 0.15);\n",
              "      filter: drop-shadow(0px 1px 2px rgba(0, 0, 0, 0.3));\n",
              "      fill: #FFFFFF;\n",
              "    }\n",
              "  </style>\n",
              "\n",
              "      <script>\n",
              "        const buttonEl =\n",
              "          document.querySelector('#df-c9369f20-8a75-4b2a-890f-32c7c3f88bef button.colab-df-convert');\n",
              "        buttonEl.style.display =\n",
              "          google.colab.kernel.accessAllowed ? 'block' : 'none';\n",
              "\n",
              "        async function convertToInteractive(key) {\n",
              "          const element = document.querySelector('#df-c9369f20-8a75-4b2a-890f-32c7c3f88bef');\n",
              "          const dataTable =\n",
              "            await google.colab.kernel.invokeFunction('convertToInteractive',\n",
              "                                                     [key], {});\n",
              "          if (!dataTable) return;\n",
              "\n",
              "          const docLinkHtml = 'Like what you see? Visit the ' +\n",
              "            '<a target=\"_blank\" href=https://colab.research.google.com/notebooks/data_table.ipynb>data table notebook</a>'\n",
              "            + ' to learn more about interactive tables.';\n",
              "          element.innerHTML = '';\n",
              "          dataTable['output_type'] = 'display_data';\n",
              "          await google.colab.output.renderOutput(dataTable, element);\n",
              "          const docLink = document.createElement('div');\n",
              "          docLink.innerHTML = docLinkHtml;\n",
              "          element.appendChild(docLink);\n",
              "        }\n",
              "      </script>\n",
              "    </div>\n",
              "  </div>\n",
              "  "
            ],
            "application/vnd.google.colaboratory.module+javascript": "\n      import \"https://ssl.gstatic.com/colaboratory/data_table/81f25a011006ed3d/data_table.js\";\n\n      window.createDataTable({\n        data: [[\"count\",\n5572,\n5572,\n50,\n12,\n6],\n [\"unique\",\n2,\n5169,\n43,\n10,\n5],\n [\"top\",\n\"ham\",\n\"Sorry, I'll call later\",\n\" bt not his girlfrnd... G o o d n i g h t . . .@\\\"\",\n\" MK17 92H. 450Ppw 16\\\"\",\n\"GNT:-)\\\"\"],\n [\"freq\",\n4825,\n30,\n3,\n2,\n2]],\n        columns: [[\"string\", \"index\"], [\"string\", \"v1\"], [\"string\", \"v2\"], [\"string\", \"Unnamed: 2\"], [\"string\", \"Unnamed: 3\"], [\"string\", \"Unnamed: 4\"]],\n        columnOptions: [{\"width\": \"1px\", \"className\": \"index_column\"}],\n        rowsPerPage: 25,\n        helpUrl: \"https://colab.research.google.com/notebooks/data_table.ipynb\",\n        suppressOutputScrolling: true,\n        minimumWidth: undefined,\n      });\n    "
          },
          "metadata": {},
          "execution_count": 122
        }
      ]
    },
    {
      "cell_type": "code",
      "source": [
        "data.info()"
      ],
      "metadata": {
        "colab": {
          "base_uri": "https://localhost:8080/"
        },
        "id": "eVOjR7MKDGxe",
        "outputId": "b0cb061a-2499-4d04-f121-facd8327be25"
      },
      "execution_count": 123,
      "outputs": [
        {
          "output_type": "stream",
          "name": "stdout",
          "text": [
            "<class 'pandas.core.frame.DataFrame'>\n",
            "RangeIndex: 5572 entries, 0 to 5571\n",
            "Data columns (total 5 columns):\n",
            " #   Column      Non-Null Count  Dtype \n",
            "---  ------      --------------  ----- \n",
            " 0   v1          5572 non-null   object\n",
            " 1   v2          5572 non-null   object\n",
            " 2   Unnamed: 2  50 non-null     object\n",
            " 3   Unnamed: 3  12 non-null     object\n",
            " 4   Unnamed: 4  6 non-null      object\n",
            "dtypes: object(5)\n",
            "memory usage: 217.8+ KB\n"
          ]
        }
      ]
    },
    {
      "cell_type": "code",
      "source": [
        "data = data.drop([\"Unnamed: 2\", \"Unnamed: 3\", \"Unnamed: 4\"], axis=1)\n",
        "data = data.rename(columns={\"v1\":\"label\", \"v2\":\"text\"})\n",
        "print(data.shape)\n",
        "data.drop_duplicates(inplace=True)\n",
        "print(data.shape)\n",
        "data.head()"
      ],
      "metadata": {
        "colab": {
          "base_uri": "https://localhost:8080/",
          "height": 249
        },
        "id": "bKDe7ClrhzQc",
        "outputId": "1d710712-3864-45fb-dd7a-44743ac9bf69"
      },
      "execution_count": 124,
      "outputs": [
        {
          "output_type": "stream",
          "name": "stdout",
          "text": [
            "(5572, 2)\n",
            "(5169, 2)\n"
          ]
        },
        {
          "output_type": "execute_result",
          "data": {
            "text/plain": [
              "  label                                               text\n",
              "0   ham  Go until jurong point, crazy.. Available only ...\n",
              "1   ham                      Ok lar... Joking wif u oni...\n",
              "2  spam  Free entry in 2 a wkly comp to win FA Cup fina...\n",
              "3   ham  U dun say so early hor... U c already then say...\n",
              "4   ham  Nah I don't think he goes to usf, he lives aro..."
            ],
            "text/html": [
              "\n",
              "  <div id=\"df-3f77471e-eb78-4214-857f-4cdaeea3a1c2\">\n",
              "    <div class=\"colab-df-container\">\n",
              "      <div>\n",
              "<style scoped>\n",
              "    .dataframe tbody tr th:only-of-type {\n",
              "        vertical-align: middle;\n",
              "    }\n",
              "\n",
              "    .dataframe tbody tr th {\n",
              "        vertical-align: top;\n",
              "    }\n",
              "\n",
              "    .dataframe thead th {\n",
              "        text-align: right;\n",
              "    }\n",
              "</style>\n",
              "<table border=\"1\" class=\"dataframe\">\n",
              "  <thead>\n",
              "    <tr style=\"text-align: right;\">\n",
              "      <th></th>\n",
              "      <th>label</th>\n",
              "      <th>text</th>\n",
              "    </tr>\n",
              "  </thead>\n",
              "  <tbody>\n",
              "    <tr>\n",
              "      <th>0</th>\n",
              "      <td>ham</td>\n",
              "      <td>Go until jurong point, crazy.. Available only ...</td>\n",
              "    </tr>\n",
              "    <tr>\n",
              "      <th>1</th>\n",
              "      <td>ham</td>\n",
              "      <td>Ok lar... Joking wif u oni...</td>\n",
              "    </tr>\n",
              "    <tr>\n",
              "      <th>2</th>\n",
              "      <td>spam</td>\n",
              "      <td>Free entry in 2 a wkly comp to win FA Cup fina...</td>\n",
              "    </tr>\n",
              "    <tr>\n",
              "      <th>3</th>\n",
              "      <td>ham</td>\n",
              "      <td>U dun say so early hor... U c already then say...</td>\n",
              "    </tr>\n",
              "    <tr>\n",
              "      <th>4</th>\n",
              "      <td>ham</td>\n",
              "      <td>Nah I don't think he goes to usf, he lives aro...</td>\n",
              "    </tr>\n",
              "  </tbody>\n",
              "</table>\n",
              "</div>\n",
              "      <button class=\"colab-df-convert\" onclick=\"convertToInteractive('df-3f77471e-eb78-4214-857f-4cdaeea3a1c2')\"\n",
              "              title=\"Convert this dataframe to an interactive table.\"\n",
              "              style=\"display:none;\">\n",
              "        \n",
              "  <svg xmlns=\"http://www.w3.org/2000/svg\" height=\"24px\"viewBox=\"0 0 24 24\"\n",
              "       width=\"24px\">\n",
              "    <path d=\"M0 0h24v24H0V0z\" fill=\"none\"/>\n",
              "    <path d=\"M18.56 5.44l.94 2.06.94-2.06 2.06-.94-2.06-.94-.94-2.06-.94 2.06-2.06.94zm-11 1L8.5 8.5l.94-2.06 2.06-.94-2.06-.94L8.5 2.5l-.94 2.06-2.06.94zm10 10l.94 2.06.94-2.06 2.06-.94-2.06-.94-.94-2.06-.94 2.06-2.06.94z\"/><path d=\"M17.41 7.96l-1.37-1.37c-.4-.4-.92-.59-1.43-.59-.52 0-1.04.2-1.43.59L10.3 9.45l-7.72 7.72c-.78.78-.78 2.05 0 2.83L4 21.41c.39.39.9.59 1.41.59.51 0 1.02-.2 1.41-.59l7.78-7.78 2.81-2.81c.8-.78.8-2.07 0-2.86zM5.41 20L4 18.59l7.72-7.72 1.47 1.35L5.41 20z\"/>\n",
              "  </svg>\n",
              "      </button>\n",
              "      \n",
              "  <style>\n",
              "    .colab-df-container {\n",
              "      display:flex;\n",
              "      flex-wrap:wrap;\n",
              "      gap: 12px;\n",
              "    }\n",
              "\n",
              "    .colab-df-convert {\n",
              "      background-color: #E8F0FE;\n",
              "      border: none;\n",
              "      border-radius: 50%;\n",
              "      cursor: pointer;\n",
              "      display: none;\n",
              "      fill: #1967D2;\n",
              "      height: 32px;\n",
              "      padding: 0 0 0 0;\n",
              "      width: 32px;\n",
              "    }\n",
              "\n",
              "    .colab-df-convert:hover {\n",
              "      background-color: #E2EBFA;\n",
              "      box-shadow: 0px 1px 2px rgba(60, 64, 67, 0.3), 0px 1px 3px 1px rgba(60, 64, 67, 0.15);\n",
              "      fill: #174EA6;\n",
              "    }\n",
              "\n",
              "    [theme=dark] .colab-df-convert {\n",
              "      background-color: #3B4455;\n",
              "      fill: #D2E3FC;\n",
              "    }\n",
              "\n",
              "    [theme=dark] .colab-df-convert:hover {\n",
              "      background-color: #434B5C;\n",
              "      box-shadow: 0px 1px 3px 1px rgba(0, 0, 0, 0.15);\n",
              "      filter: drop-shadow(0px 1px 2px rgba(0, 0, 0, 0.3));\n",
              "      fill: #FFFFFF;\n",
              "    }\n",
              "  </style>\n",
              "\n",
              "      <script>\n",
              "        const buttonEl =\n",
              "          document.querySelector('#df-3f77471e-eb78-4214-857f-4cdaeea3a1c2 button.colab-df-convert');\n",
              "        buttonEl.style.display =\n",
              "          google.colab.kernel.accessAllowed ? 'block' : 'none';\n",
              "\n",
              "        async function convertToInteractive(key) {\n",
              "          const element = document.querySelector('#df-3f77471e-eb78-4214-857f-4cdaeea3a1c2');\n",
              "          const dataTable =\n",
              "            await google.colab.kernel.invokeFunction('convertToInteractive',\n",
              "                                                     [key], {});\n",
              "          if (!dataTable) return;\n",
              "\n",
              "          const docLinkHtml = 'Like what you see? Visit the ' +\n",
              "            '<a target=\"_blank\" href=https://colab.research.google.com/notebooks/data_table.ipynb>data table notebook</a>'\n",
              "            + ' to learn more about interactive tables.';\n",
              "          element.innerHTML = '';\n",
              "          dataTable['output_type'] = 'display_data';\n",
              "          await google.colab.output.renderOutput(dataTable, element);\n",
              "          const docLink = document.createElement('div');\n",
              "          docLink.innerHTML = docLinkHtml;\n",
              "          element.appendChild(docLink);\n",
              "        }\n",
              "      </script>\n",
              "    </div>\n",
              "  </div>\n",
              "  "
            ],
            "application/vnd.google.colaboratory.module+javascript": "\n      import \"https://ssl.gstatic.com/colaboratory/data_table/81f25a011006ed3d/data_table.js\";\n\n      window.createDataTable({\n        data: [[{\n            'v': 0,\n            'f': \"0\",\n        },\n\"ham\",\n\"Go until jurong point, crazy.. Available only in bugis n great world la e buffet... Cine there got amore wat...\"],\n [{\n            'v': 1,\n            'f': \"1\",\n        },\n\"ham\",\n\"Ok lar... Joking wif u oni...\"],\n [{\n            'v': 2,\n            'f': \"2\",\n        },\n\"spam\",\n\"Free entry in 2 a wkly comp to win FA Cup final tkts 21st May 2005. Text FA to 87121 to receive entry question(std txt rate)T&C's apply 08452810075over18's\"],\n [{\n            'v': 3,\n            'f': \"3\",\n        },\n\"ham\",\n\"U dun say so early hor... U c already then say...\"],\n [{\n            'v': 4,\n            'f': \"4\",\n        },\n\"ham\",\n\"Nah I don't think he goes to usf, he lives around here though\"]],\n        columns: [[\"number\", \"index\"], [\"string\", \"label\"], [\"string\", \"text\"]],\n        columnOptions: [{\"width\": \"1px\", \"className\": \"index_column\"}],\n        rowsPerPage: 25,\n        helpUrl: \"https://colab.research.google.com/notebooks/data_table.ipynb\",\n        suppressOutputScrolling: true,\n        minimumWidth: undefined,\n      });\n    "
          },
          "metadata": {},
          "execution_count": 124
        }
      ]
    },
    {
      "cell_type": "code",
      "source": [
        "data['text'][0]"
      ],
      "metadata": {
        "colab": {
          "base_uri": "https://localhost:8080/",
          "height": 53
        },
        "id": "pMmB-4GQmvGs",
        "outputId": "b18366cb-fdfe-4f08-d2d3-bb5c1da349f8"
      },
      "execution_count": 125,
      "outputs": [
        {
          "output_type": "execute_result",
          "data": {
            "text/plain": [
              "'Go until jurong point, crazy.. Available only in bugis n great world la e buffet... Cine there got amore wat...'"
            ],
            "application/vnd.google.colaboratory.intrinsic+json": {
              "type": "string"
            }
          },
          "metadata": {},
          "execution_count": 125
        }
      ]
    },
    {
      "cell_type": "markdown",
      "source": [
        "# Text Preprocessing Techniques"
      ],
      "metadata": {
        "id": "w8O7-Oa_m_Lh"
      }
    },
    {
      "cell_type": "markdown",
      "source": [
        "## Lower case"
      ],
      "metadata": {
        "id": "qKaDh_4LoPcE"
      }
    },
    {
      "cell_type": "code",
      "source": [
        "data['text'] = data['text'].str.lower()"
      ],
      "metadata": {
        "id": "_ER9FX0DoSaa"
      },
      "execution_count": 126,
      "outputs": []
    },
    {
      "cell_type": "code",
      "source": [
        "data.text[0]"
      ],
      "metadata": {
        "colab": {
          "base_uri": "https://localhost:8080/",
          "height": 53
        },
        "id": "ROqco-e8xs9j",
        "outputId": "46cdc00e-fe68-4ae3-8174-b6d448f1b8bb"
      },
      "execution_count": 127,
      "outputs": [
        {
          "output_type": "execute_result",
          "data": {
            "text/plain": [
              "'go until jurong point, crazy.. available only in bugis n great world la e buffet... cine there got amore wat...'"
            ],
            "application/vnd.google.colaboratory.intrinsic+json": {
              "type": "string"
            }
          },
          "metadata": {},
          "execution_count": 127
        }
      ]
    },
    {
      "cell_type": "markdown",
      "source": [
        "##  Remove punctuations"
      ],
      "metadata": {
        "id": "QsGz35EMowxe"
      }
    },
    {
      "cell_type": "code",
      "source": [
        "data['text'] = data['text'].apply(lambda x: re.sub('[%s]' % re.escape(string.punctuation), '' , x))"
      ],
      "metadata": {
        "id": "X7mpNIyzo172"
      },
      "execution_count": 128,
      "outputs": []
    },
    {
      "cell_type": "code",
      "source": [
        "data.text[0]"
      ],
      "metadata": {
        "colab": {
          "base_uri": "https://localhost:8080/",
          "height": 35
        },
        "id": "q4lZeAqdxxZF",
        "outputId": "b48dd836-80a9-4a9e-b801-2f75ad0fd287"
      },
      "execution_count": 129,
      "outputs": [
        {
          "output_type": "execute_result",
          "data": {
            "text/plain": [
              "'go until jurong point crazy available only in bugis n great world la e buffet cine there got amore wat'"
            ],
            "application/vnd.google.colaboratory.intrinsic+json": {
              "type": "string"
            }
          },
          "metadata": {},
          "execution_count": 129
        }
      ]
    },
    {
      "cell_type": "markdown",
      "source": [
        "##  Remove words and digits containing digits"
      ],
      "metadata": {
        "id": "8xqaMIGspIOw"
      }
    },
    {
      "cell_type": "code",
      "source": [
        "#remove words and digits\n",
        "data['text'] = data['text'].apply(lambda x: re.sub('\\w*\\d\\w*','',x))"
      ],
      "metadata": {
        "id": "mZwPAeCmpVxU"
      },
      "execution_count": 130,
      "outputs": []
    },
    {
      "cell_type": "code",
      "source": [
        "data.text[2]"
      ],
      "metadata": {
        "colab": {
          "base_uri": "https://localhost:8080/",
          "height": 53
        },
        "id": "wXG2QxUBpG1N",
        "outputId": "6df206ea-7266-459c-8ca2-0edd744a1d0b"
      },
      "execution_count": 131,
      "outputs": [
        {
          "output_type": "execute_result",
          "data": {
            "text/plain": [
              "'free entry in  a wkly comp to win fa cup final tkts  may  text fa to  to receive entry questionstd txt ratetcs apply '"
            ],
            "application/vnd.google.colaboratory.intrinsic+json": {
              "type": "string"
            }
          },
          "metadata": {},
          "execution_count": 131
        }
      ]
    },
    {
      "cell_type": "markdown",
      "source": [
        "## Remove Stopwords"
      ],
      "metadata": {
        "id": "1BRFqHevt-Ud"
      }
    },
    {
      "cell_type": "code",
      "source": [
        "import nltk\n",
        "nltk.download('stopwords')\n",
        "nltk.download('wordnet')"
      ],
      "metadata": {
        "colab": {
          "base_uri": "https://localhost:8080/"
        },
        "id": "oiSaJRQkuZkm",
        "outputId": "68a49d1b-6e04-4d5f-cf03-4a8caac8365f"
      },
      "execution_count": 132,
      "outputs": [
        {
          "output_type": "stream",
          "name": "stdout",
          "text": [
            "[nltk_data] Downloading package stopwords to /root/nltk_data...\n",
            "[nltk_data]   Package stopwords is already up-to-date!\n",
            "[nltk_data] Downloading package wordnet to /root/nltk_data...\n",
            "[nltk_data]   Package wordnet is already up-to-date!\n"
          ]
        },
        {
          "output_type": "execute_result",
          "data": {
            "text/plain": [
              "True"
            ]
          },
          "metadata": {},
          "execution_count": 132
        }
      ]
    },
    {
      "cell_type": "code",
      "source": [
        "#remove stopwords\n",
        "from nltk.corpus import stopwords\n",
        "stop_words = set(stopwords.words('english'))\n",
        "stop_words.add('http')\n",
        "def remove_stopwords(text):\n",
        "    return \" \".join([word for word in str(text).split() if word not in stop_words])\n",
        "data['text'] = data['text'].apply(lambda x: remove_stopwords(x))"
      ],
      "metadata": {
        "id": "BM8jgEKuuDhf"
      },
      "execution_count": 133,
      "outputs": []
    },
    {
      "cell_type": "code",
      "source": [
        "data.text[0]"
      ],
      "metadata": {
        "colab": {
          "base_uri": "https://localhost:8080/",
          "height": 35
        },
        "id": "Pcp9LPN0yWhr",
        "outputId": "2f61ad51-2d61-4462-dad3-9c71d10e996c"
      },
      "execution_count": 134,
      "outputs": [
        {
          "output_type": "execute_result",
          "data": {
            "text/plain": [
              "'go jurong point crazy available bugis n great world la e buffet cine got amore wat'"
            ],
            "application/vnd.google.colaboratory.intrinsic+json": {
              "type": "string"
            }
          },
          "metadata": {},
          "execution_count": 134
        }
      ]
    },
    {
      "cell_type": "markdown",
      "source": [
        "## Stemming"
      ],
      "metadata": {
        "id": "k4HaH80py77n"
      }
    },
    {
      "cell_type": "code",
      "source": [
        "#stemming\n",
        "from nltk.stem import PorterStemmer\n",
        "stemmer = PorterStemmer()\n",
        "def stem_words(text):\n",
        "    return \" \".join([stemmer.stem(word) for word in text.split()])\n",
        "data[\"text\"] = data[\"text\"].apply(lambda x: stem_words(x))"
      ],
      "metadata": {
        "id": "erBUz2cdy94S"
      },
      "execution_count": 135,
      "outputs": []
    },
    {
      "cell_type": "code",
      "source": [
        "data.text[0]"
      ],
      "metadata": {
        "colab": {
          "base_uri": "https://localhost:8080/",
          "height": 35
        },
        "id": "pD1hZSJKzM3G",
        "outputId": "6708b8f2-5573-4057-ea0a-bff1c8dd89d7"
      },
      "execution_count": 136,
      "outputs": [
        {
          "output_type": "execute_result",
          "data": {
            "text/plain": [
              "'go jurong point crazi avail bugi n great world la e buffet cine got amor wat'"
            ],
            "application/vnd.google.colaboratory.intrinsic+json": {
              "type": "string"
            }
          },
          "metadata": {},
          "execution_count": 136
        }
      ]
    },
    {
      "cell_type": "markdown",
      "source": [
        "## Lemmatization"
      ],
      "metadata": {
        "id": "wdTX7ny4vHYO"
      }
    },
    {
      "cell_type": "code",
      "source": [
        "from nltk.stem import WordNetLemmatizer\n",
        "lemmatizer = WordNetLemmatizer()\n",
        "def lemmatize_words(text):\n",
        "    return \" \".join([lemmatizer.lemmatize(word) for word in text.split()])\n",
        "data[\"text\"] = data[\"text\"].apply(lambda text: lemmatize_words(text))"
      ],
      "metadata": {
        "id": "S7GePV8surL7"
      },
      "execution_count": 137,
      "outputs": []
    },
    {
      "cell_type": "code",
      "source": [
        "data.head()"
      ],
      "metadata": {
        "colab": {
          "base_uri": "https://localhost:8080/",
          "height": 197
        },
        "id": "x4ytkiFhv8_b",
        "outputId": "11bc6c50-5125-47ae-bd5e-badc9de00550"
      },
      "execution_count": 138,
      "outputs": [
        {
          "output_type": "execute_result",
          "data": {
            "text/plain": [
              "  label                                               text\n",
              "0   ham  go jurong point crazi avail bugi n great world...\n",
              "1   ham                              ok lar joke wif u oni\n",
              "2  spam  free entri wkli comp win fa cup final tkt may ...\n",
              "3   ham                u dun say earli hor u c alreadi say\n",
              "4   ham          nah dont think goe usf live around though"
            ],
            "text/html": [
              "\n",
              "  <div id=\"df-8ee1c775-fd17-43d8-8a32-6448c29edf77\">\n",
              "    <div class=\"colab-df-container\">\n",
              "      <div>\n",
              "<style scoped>\n",
              "    .dataframe tbody tr th:only-of-type {\n",
              "        vertical-align: middle;\n",
              "    }\n",
              "\n",
              "    .dataframe tbody tr th {\n",
              "        vertical-align: top;\n",
              "    }\n",
              "\n",
              "    .dataframe thead th {\n",
              "        text-align: right;\n",
              "    }\n",
              "</style>\n",
              "<table border=\"1\" class=\"dataframe\">\n",
              "  <thead>\n",
              "    <tr style=\"text-align: right;\">\n",
              "      <th></th>\n",
              "      <th>label</th>\n",
              "      <th>text</th>\n",
              "    </tr>\n",
              "  </thead>\n",
              "  <tbody>\n",
              "    <tr>\n",
              "      <th>0</th>\n",
              "      <td>ham</td>\n",
              "      <td>go jurong point crazi avail bugi n great world...</td>\n",
              "    </tr>\n",
              "    <tr>\n",
              "      <th>1</th>\n",
              "      <td>ham</td>\n",
              "      <td>ok lar joke wif u oni</td>\n",
              "    </tr>\n",
              "    <tr>\n",
              "      <th>2</th>\n",
              "      <td>spam</td>\n",
              "      <td>free entri wkli comp win fa cup final tkt may ...</td>\n",
              "    </tr>\n",
              "    <tr>\n",
              "      <th>3</th>\n",
              "      <td>ham</td>\n",
              "      <td>u dun say earli hor u c alreadi say</td>\n",
              "    </tr>\n",
              "    <tr>\n",
              "      <th>4</th>\n",
              "      <td>ham</td>\n",
              "      <td>nah dont think goe usf live around though</td>\n",
              "    </tr>\n",
              "  </tbody>\n",
              "</table>\n",
              "</div>\n",
              "      <button class=\"colab-df-convert\" onclick=\"convertToInteractive('df-8ee1c775-fd17-43d8-8a32-6448c29edf77')\"\n",
              "              title=\"Convert this dataframe to an interactive table.\"\n",
              "              style=\"display:none;\">\n",
              "        \n",
              "  <svg xmlns=\"http://www.w3.org/2000/svg\" height=\"24px\"viewBox=\"0 0 24 24\"\n",
              "       width=\"24px\">\n",
              "    <path d=\"M0 0h24v24H0V0z\" fill=\"none\"/>\n",
              "    <path d=\"M18.56 5.44l.94 2.06.94-2.06 2.06-.94-2.06-.94-.94-2.06-.94 2.06-2.06.94zm-11 1L8.5 8.5l.94-2.06 2.06-.94-2.06-.94L8.5 2.5l-.94 2.06-2.06.94zm10 10l.94 2.06.94-2.06 2.06-.94-2.06-.94-.94-2.06-.94 2.06-2.06.94z\"/><path d=\"M17.41 7.96l-1.37-1.37c-.4-.4-.92-.59-1.43-.59-.52 0-1.04.2-1.43.59L10.3 9.45l-7.72 7.72c-.78.78-.78 2.05 0 2.83L4 21.41c.39.39.9.59 1.41.59.51 0 1.02-.2 1.41-.59l7.78-7.78 2.81-2.81c.8-.78.8-2.07 0-2.86zM5.41 20L4 18.59l7.72-7.72 1.47 1.35L5.41 20z\"/>\n",
              "  </svg>\n",
              "      </button>\n",
              "      \n",
              "  <style>\n",
              "    .colab-df-container {\n",
              "      display:flex;\n",
              "      flex-wrap:wrap;\n",
              "      gap: 12px;\n",
              "    }\n",
              "\n",
              "    .colab-df-convert {\n",
              "      background-color: #E8F0FE;\n",
              "      border: none;\n",
              "      border-radius: 50%;\n",
              "      cursor: pointer;\n",
              "      display: none;\n",
              "      fill: #1967D2;\n",
              "      height: 32px;\n",
              "      padding: 0 0 0 0;\n",
              "      width: 32px;\n",
              "    }\n",
              "\n",
              "    .colab-df-convert:hover {\n",
              "      background-color: #E2EBFA;\n",
              "      box-shadow: 0px 1px 2px rgba(60, 64, 67, 0.3), 0px 1px 3px 1px rgba(60, 64, 67, 0.15);\n",
              "      fill: #174EA6;\n",
              "    }\n",
              "\n",
              "    [theme=dark] .colab-df-convert {\n",
              "      background-color: #3B4455;\n",
              "      fill: #D2E3FC;\n",
              "    }\n",
              "\n",
              "    [theme=dark] .colab-df-convert:hover {\n",
              "      background-color: #434B5C;\n",
              "      box-shadow: 0px 1px 3px 1px rgba(0, 0, 0, 0.15);\n",
              "      filter: drop-shadow(0px 1px 2px rgba(0, 0, 0, 0.3));\n",
              "      fill: #FFFFFF;\n",
              "    }\n",
              "  </style>\n",
              "\n",
              "      <script>\n",
              "        const buttonEl =\n",
              "          document.querySelector('#df-8ee1c775-fd17-43d8-8a32-6448c29edf77 button.colab-df-convert');\n",
              "        buttonEl.style.display =\n",
              "          google.colab.kernel.accessAllowed ? 'block' : 'none';\n",
              "\n",
              "        async function convertToInteractive(key) {\n",
              "          const element = document.querySelector('#df-8ee1c775-fd17-43d8-8a32-6448c29edf77');\n",
              "          const dataTable =\n",
              "            await google.colab.kernel.invokeFunction('convertToInteractive',\n",
              "                                                     [key], {});\n",
              "          if (!dataTable) return;\n",
              "\n",
              "          const docLinkHtml = 'Like what you see? Visit the ' +\n",
              "            '<a target=\"_blank\" href=https://colab.research.google.com/notebooks/data_table.ipynb>data table notebook</a>'\n",
              "            + ' to learn more about interactive tables.';\n",
              "          element.innerHTML = '';\n",
              "          dataTable['output_type'] = 'display_data';\n",
              "          await google.colab.output.renderOutput(dataTable, element);\n",
              "          const docLink = document.createElement('div');\n",
              "          docLink.innerHTML = docLinkHtml;\n",
              "          element.appendChild(docLink);\n",
              "        }\n",
              "      </script>\n",
              "    </div>\n",
              "  </div>\n",
              "  "
            ],
            "application/vnd.google.colaboratory.module+javascript": "\n      import \"https://ssl.gstatic.com/colaboratory/data_table/81f25a011006ed3d/data_table.js\";\n\n      window.createDataTable({\n        data: [[{\n            'v': 0,\n            'f': \"0\",\n        },\n\"ham\",\n\"go jurong point crazi avail bugi n great world la e buffet cine got amor wat\"],\n [{\n            'v': 1,\n            'f': \"1\",\n        },\n\"ham\",\n\"ok lar joke wif u oni\"],\n [{\n            'v': 2,\n            'f': \"2\",\n        },\n\"spam\",\n\"free entri wkli comp win fa cup final tkt may text fa receiv entri questionstd txt ratetc appli\"],\n [{\n            'v': 3,\n            'f': \"3\",\n        },\n\"ham\",\n\"u dun say earli hor u c alreadi say\"],\n [{\n            'v': 4,\n            'f': \"4\",\n        },\n\"ham\",\n\"nah dont think goe usf live around though\"]],\n        columns: [[\"number\", \"index\"], [\"string\", \"label\"], [\"string\", \"text\"]],\n        columnOptions: [{\"width\": \"1px\", \"className\": \"index_column\"}],\n        rowsPerPage: 25,\n        helpUrl: \"https://colab.research.google.com/notebooks/data_table.ipynb\",\n        suppressOutputScrolling: true,\n        minimumWidth: undefined,\n      });\n    "
          },
          "metadata": {},
          "execution_count": 138
        }
      ]
    },
    {
      "cell_type": "markdown",
      "source": [
        "## Remove Extra Spaces"
      ],
      "metadata": {
        "id": "lhOA50KgwY6n"
      }
    },
    {
      "cell_type": "code",
      "source": [
        "data[\"text\"] = data[\"text\"].apply(lambda x: re.sub(' +', ' ', x))"
      ],
      "metadata": {
        "id": "V3kclY8lwbFm"
      },
      "execution_count": 139,
      "outputs": []
    },
    {
      "cell_type": "code",
      "source": [
        "data.text[0]"
      ],
      "metadata": {
        "colab": {
          "base_uri": "https://localhost:8080/",
          "height": 35
        },
        "id": "-rYNWFxRwxrt",
        "outputId": "b5f3b905-ff53-4855-f31d-c31e215a7a10"
      },
      "execution_count": 140,
      "outputs": [
        {
          "output_type": "execute_result",
          "data": {
            "text/plain": [
              "'go jurong point crazi avail bugi n great world la e buffet cine got amor wat'"
            ],
            "application/vnd.google.colaboratory.intrinsic+json": {
              "type": "string"
            }
          },
          "metadata": {},
          "execution_count": 140
        }
      ]
    },
    {
      "cell_type": "code",
      "source": [
        "data.head()"
      ],
      "metadata": {
        "colab": {
          "base_uri": "https://localhost:8080/",
          "height": 197
        },
        "id": "3hEY_kJPw7Hc",
        "outputId": "b9260579-8dea-4937-eeda-cd791bc9d417"
      },
      "execution_count": 141,
      "outputs": [
        {
          "output_type": "execute_result",
          "data": {
            "text/plain": [
              "  label                                               text\n",
              "0   ham  go jurong point crazi avail bugi n great world...\n",
              "1   ham                              ok lar joke wif u oni\n",
              "2  spam  free entri wkli comp win fa cup final tkt may ...\n",
              "3   ham                u dun say earli hor u c alreadi say\n",
              "4   ham          nah dont think goe usf live around though"
            ],
            "text/html": [
              "\n",
              "  <div id=\"df-c99d95c5-4da9-4ab8-9ca4-f15ce26a16a6\">\n",
              "    <div class=\"colab-df-container\">\n",
              "      <div>\n",
              "<style scoped>\n",
              "    .dataframe tbody tr th:only-of-type {\n",
              "        vertical-align: middle;\n",
              "    }\n",
              "\n",
              "    .dataframe tbody tr th {\n",
              "        vertical-align: top;\n",
              "    }\n",
              "\n",
              "    .dataframe thead th {\n",
              "        text-align: right;\n",
              "    }\n",
              "</style>\n",
              "<table border=\"1\" class=\"dataframe\">\n",
              "  <thead>\n",
              "    <tr style=\"text-align: right;\">\n",
              "      <th></th>\n",
              "      <th>label</th>\n",
              "      <th>text</th>\n",
              "    </tr>\n",
              "  </thead>\n",
              "  <tbody>\n",
              "    <tr>\n",
              "      <th>0</th>\n",
              "      <td>ham</td>\n",
              "      <td>go jurong point crazi avail bugi n great world...</td>\n",
              "    </tr>\n",
              "    <tr>\n",
              "      <th>1</th>\n",
              "      <td>ham</td>\n",
              "      <td>ok lar joke wif u oni</td>\n",
              "    </tr>\n",
              "    <tr>\n",
              "      <th>2</th>\n",
              "      <td>spam</td>\n",
              "      <td>free entri wkli comp win fa cup final tkt may ...</td>\n",
              "    </tr>\n",
              "    <tr>\n",
              "      <th>3</th>\n",
              "      <td>ham</td>\n",
              "      <td>u dun say earli hor u c alreadi say</td>\n",
              "    </tr>\n",
              "    <tr>\n",
              "      <th>4</th>\n",
              "      <td>ham</td>\n",
              "      <td>nah dont think goe usf live around though</td>\n",
              "    </tr>\n",
              "  </tbody>\n",
              "</table>\n",
              "</div>\n",
              "      <button class=\"colab-df-convert\" onclick=\"convertToInteractive('df-c99d95c5-4da9-4ab8-9ca4-f15ce26a16a6')\"\n",
              "              title=\"Convert this dataframe to an interactive table.\"\n",
              "              style=\"display:none;\">\n",
              "        \n",
              "  <svg xmlns=\"http://www.w3.org/2000/svg\" height=\"24px\"viewBox=\"0 0 24 24\"\n",
              "       width=\"24px\">\n",
              "    <path d=\"M0 0h24v24H0V0z\" fill=\"none\"/>\n",
              "    <path d=\"M18.56 5.44l.94 2.06.94-2.06 2.06-.94-2.06-.94-.94-2.06-.94 2.06-2.06.94zm-11 1L8.5 8.5l.94-2.06 2.06-.94-2.06-.94L8.5 2.5l-.94 2.06-2.06.94zm10 10l.94 2.06.94-2.06 2.06-.94-2.06-.94-.94-2.06-.94 2.06-2.06.94z\"/><path d=\"M17.41 7.96l-1.37-1.37c-.4-.4-.92-.59-1.43-.59-.52 0-1.04.2-1.43.59L10.3 9.45l-7.72 7.72c-.78.78-.78 2.05 0 2.83L4 21.41c.39.39.9.59 1.41.59.51 0 1.02-.2 1.41-.59l7.78-7.78 2.81-2.81c.8-.78.8-2.07 0-2.86zM5.41 20L4 18.59l7.72-7.72 1.47 1.35L5.41 20z\"/>\n",
              "  </svg>\n",
              "      </button>\n",
              "      \n",
              "  <style>\n",
              "    .colab-df-container {\n",
              "      display:flex;\n",
              "      flex-wrap:wrap;\n",
              "      gap: 12px;\n",
              "    }\n",
              "\n",
              "    .colab-df-convert {\n",
              "      background-color: #E8F0FE;\n",
              "      border: none;\n",
              "      border-radius: 50%;\n",
              "      cursor: pointer;\n",
              "      display: none;\n",
              "      fill: #1967D2;\n",
              "      height: 32px;\n",
              "      padding: 0 0 0 0;\n",
              "      width: 32px;\n",
              "    }\n",
              "\n",
              "    .colab-df-convert:hover {\n",
              "      background-color: #E2EBFA;\n",
              "      box-shadow: 0px 1px 2px rgba(60, 64, 67, 0.3), 0px 1px 3px 1px rgba(60, 64, 67, 0.15);\n",
              "      fill: #174EA6;\n",
              "    }\n",
              "\n",
              "    [theme=dark] .colab-df-convert {\n",
              "      background-color: #3B4455;\n",
              "      fill: #D2E3FC;\n",
              "    }\n",
              "\n",
              "    [theme=dark] .colab-df-convert:hover {\n",
              "      background-color: #434B5C;\n",
              "      box-shadow: 0px 1px 3px 1px rgba(0, 0, 0, 0.15);\n",
              "      filter: drop-shadow(0px 1px 2px rgba(0, 0, 0, 0.3));\n",
              "      fill: #FFFFFF;\n",
              "    }\n",
              "  </style>\n",
              "\n",
              "      <script>\n",
              "        const buttonEl =\n",
              "          document.querySelector('#df-c99d95c5-4da9-4ab8-9ca4-f15ce26a16a6 button.colab-df-convert');\n",
              "        buttonEl.style.display =\n",
              "          google.colab.kernel.accessAllowed ? 'block' : 'none';\n",
              "\n",
              "        async function convertToInteractive(key) {\n",
              "          const element = document.querySelector('#df-c99d95c5-4da9-4ab8-9ca4-f15ce26a16a6');\n",
              "          const dataTable =\n",
              "            await google.colab.kernel.invokeFunction('convertToInteractive',\n",
              "                                                     [key], {});\n",
              "          if (!dataTable) return;\n",
              "\n",
              "          const docLinkHtml = 'Like what you see? Visit the ' +\n",
              "            '<a target=\"_blank\" href=https://colab.research.google.com/notebooks/data_table.ipynb>data table notebook</a>'\n",
              "            + ' to learn more about interactive tables.';\n",
              "          element.innerHTML = '';\n",
              "          dataTable['output_type'] = 'display_data';\n",
              "          await google.colab.output.renderOutput(dataTable, element);\n",
              "          const docLink = document.createElement('div');\n",
              "          docLink.innerHTML = docLinkHtml;\n",
              "          element.appendChild(docLink);\n",
              "        }\n",
              "      </script>\n",
              "    </div>\n",
              "  </div>\n",
              "  "
            ],
            "application/vnd.google.colaboratory.module+javascript": "\n      import \"https://ssl.gstatic.com/colaboratory/data_table/81f25a011006ed3d/data_table.js\";\n\n      window.createDataTable({\n        data: [[{\n            'v': 0,\n            'f': \"0\",\n        },\n\"ham\",\n\"go jurong point crazi avail bugi n great world la e buffet cine got amor wat\"],\n [{\n            'v': 1,\n            'f': \"1\",\n        },\n\"ham\",\n\"ok lar joke wif u oni\"],\n [{\n            'v': 2,\n            'f': \"2\",\n        },\n\"spam\",\n\"free entri wkli comp win fa cup final tkt may text fa receiv entri questionstd txt ratetc appli\"],\n [{\n            'v': 3,\n            'f': \"3\",\n        },\n\"ham\",\n\"u dun say earli hor u c alreadi say\"],\n [{\n            'v': 4,\n            'f': \"4\",\n        },\n\"ham\",\n\"nah dont think goe usf live around though\"]],\n        columns: [[\"number\", \"index\"], [\"string\", \"label\"], [\"string\", \"text\"]],\n        columnOptions: [{\"width\": \"1px\", \"className\": \"index_column\"}],\n        rowsPerPage: 25,\n        helpUrl: \"https://colab.research.google.com/notebooks/data_table.ipynb\",\n        suppressOutputScrolling: true,\n        minimumWidth: undefined,\n      });\n    "
          },
          "metadata": {},
          "execution_count": 141
        }
      ]
    },
    {
      "cell_type": "markdown",
      "source": [
        "# Modelling"
      ],
      "metadata": {
        "id": "rV9NML3l2bdl"
      }
    },
    {
      "cell_type": "code",
      "source": [
        "import matplotlib.pyplot as plt\n",
        "from sklearn.feature_extraction.text import CountVectorizer, TfidfVectorizer\n",
        "from sklearn import feature_extraction, linear_model, model_selection, preprocessing\n",
        "from sklearn.metrics import accuracy_score\n",
        "from sklearn.model_selection import train_test_split, cross_val_score, KFold\n",
        "from sklearn.feature_extraction.text import TfidfTransformer\n",
        "from sklearn.pipeline import Pipeline\n",
        "from sklearn.svm import LinearSVC\n",
        "from sklearn.linear_model import LogisticRegression\n",
        "from sklearn.naive_bayes import MultinomialNB\n",
        "\n",
        "\n",
        "\n",
        "from sklearn.tree import DecisionTreeClassifier\n",
        "from sklearn.neighbors import KNeighborsClassifier\n",
        "from sklearn.ensemble import RandomForestClassifier\n",
        "from sklearn.preprocessing import LabelEncoder\n",
        "\n",
        "\n",
        "from sklearn.metrics import accuracy_score, confusion_matrix,classification_report\n"
      ],
      "metadata": {
        "id": "cqFClVl79p3j"
      },
      "execution_count": 142,
      "outputs": []
    },
    {
      "cell_type": "code",
      "source": [
        "data.label.value_counts(normalize=True)*100"
      ],
      "metadata": {
        "colab": {
          "base_uri": "https://localhost:8080/"
        },
        "id": "OIrO7D_uMThp",
        "outputId": "d9e70cc6-98d7-45e6-a072-a7d7c5f3d212"
      },
      "execution_count": 143,
      "outputs": [
        {
          "output_type": "execute_result",
          "data": {
            "text/plain": [
              "ham     87.366996\n",
              "spam    12.633004\n",
              "Name: label, dtype: float64"
            ]
          },
          "metadata": {},
          "execution_count": 143
        }
      ]
    },
    {
      "cell_type": "markdown",
      "source": [
        "## Support Vector Classifier"
      ],
      "metadata": {
        "id": "q2xHecyX0vzN"
      }
    },
    {
      "cell_type": "code",
      "source": [
        "print('\\033[1mLinear SVC using counting word occurence   \\033[0m')\n",
        "\n",
        "# Split Dataset for training and testing\n",
        "x_train,x_test,y_train,y_test = train_test_split(data['text'], data.label, test_size=0.2, random_state=41)\n",
        "\n",
        "pipe = Pipeline([('vect', CountVectorizer()), # Converts text into numeric format to feed in models\n",
        "                 ('model', LinearSVC())]) # Model Classifier\n",
        "\n",
        "# Fitting of pipeline\n",
        "model = pipe.fit(x_train, y_train)\n",
        "prediction = model.predict(x_test)\n",
        "\n",
        "print(\"accuracy: {}%\".format(round(accuracy_score(y_test, prediction)*100,2)))\n",
        "\n",
        "x_axis_labels = [\"ham\", \"spam\"]\n",
        "y_axis_labels = [\"ham\", \"spam\"] \n",
        "\n",
        "sns.heatmap(confusion_matrix(y_test, prediction), annot=True, fmt=\"d\", cmap='BuPu', xticklabels=x_axis_labels, yticklabels=y_axis_labels)\n",
        "plt.xlabel(\"true labels\")\n",
        "plt.ylabel(\"predicted label\")\n",
        "\n",
        "plt.show()\n",
        "print(\"\\n\")\n",
        "print(\"\\t\\tClassification report\\n\")\n",
        "print(classification_report(y_test, prediction))\n",
        "print(\"\\n------------------------------------------------------------------------------------------\\n\")\n",
        "\n",
        "print('\\033[1mLinear SVC using normalized count occurence   \\033[0m')\n",
        "# Split Dataset for training and testing\n",
        "x_train,x_test,y_train,y_test = train_test_split(data['text'], data.label, test_size=0.2, random_state=41)\n",
        "\n",
        "pipe = Pipeline([('vect', TfidfVectorizer(use_idf=False, norm=\"l2\")), # Converts text into numeric format to feed in models\n",
        "                 ('model', LinearSVC())]) # Model Classifier\n",
        "\n",
        "# Fitting of pipeline\n",
        "model = pipe.fit(x_train, y_train)\n",
        "prediction = model.predict(x_test)\n",
        "print(\"accuracy: {}%\".format(round(accuracy_score(y_test, prediction)*100,2)))\n",
        "\n",
        "x_axis_labels = [\"ham\", \"spam\"]\n",
        "y_axis_labels = [\"ham\", \"spam\"] \n",
        "\n",
        "sns.heatmap(confusion_matrix(y_test, prediction), annot=True, fmt=\"d\", cmap='BuPu', xticklabels=x_axis_labels, yticklabels=y_axis_labels)\n",
        "plt.xlabel(\"true labels\")\n",
        "plt.ylabel(\"predicted label\")\n",
        "\n",
        "plt.show()\n",
        "print(\"\\n\")\n",
        "print(\"\\t\\tClassification report\\n\")\n",
        "print(classification_report(y_test, prediction))\n",
        "print(\"\\n--------------------------------------------------------------------------------------------\\n\")\n",
        "\n",
        "print('\\033[1mLinear SVC using TFIDF   \\033[0m')\n",
        "# Split Dataset for training and testing\n",
        "x_train,x_test,y_train,y_test = train_test_split(data['text'], data.label, test_size=0.2, random_state=41)\n",
        "\n",
        "pipe = Pipeline([('vect', CountVectorizer()), # Converts text into numeric format to feed in models\n",
        "                 ('tfidf', TfidfTransformer()), # Technique to extract features from data\n",
        "                 ('model', LinearSVC())]) # Model Classifier\n",
        "\n",
        "# Fitting of pipeline\n",
        "model = pipe.fit(x_train, y_train)\n",
        "prediction = model.predict(x_test)\n",
        "print(\"accuracy: {}%\".format(round(accuracy_score(y_test, prediction)*100,2)))\n",
        "\n",
        "x_axis_labels = [\"ham\", \"spam\"]\n",
        "y_axis_labels = [\"ham\", \"spam\"] \n",
        "\n",
        "sns.heatmap(confusion_matrix(y_test, prediction), annot=True, fmt=\"d\", cmap='BuPu', xticklabels=x_axis_labels, yticklabels=y_axis_labels)\n",
        "plt.xlabel(\"true labels\")\n",
        "plt.ylabel(\"predicted label\")\n",
        "\n",
        "plt.show()\n",
        "print(\"\\n\")\n",
        "print(\"\\t\\tClassification report\\n\")\n",
        "print(classification_report(y_test, prediction))\n",
        "print(\"\\n------------------------------------------------------------------------------------------\\n\")\n",
        "print('\\033[1mLinear SVC Classifier using counting word occurence with 2-grams   \\033[0m')\n",
        "\n",
        "# Split Dataset for training and testing\n",
        "x_train,x_test,y_train,y_test = train_test_split(data['text'], data.label, test_size=0.2, random_state=41)\n",
        "\n",
        "pipe = Pipeline([('vect', CountVectorizer(ngram_range=(2,2))), # Converts text into numeric format to feed in models\n",
        "                 ('model', LinearSVC())]) # Model Classifier\n",
        "\n",
        "# Fitting of pipeline\n",
        "model = pipe.fit(x_train, y_train)\n",
        "prediction = model.predict(x_test)\n",
        "\n",
        "print(\"accuracy: {}%\".format(round(accuracy_score(y_test, prediction)*100,2)))\n",
        "\n",
        "x_axis_labels = [\"ham\", \"spam\"]\n",
        "y_axis_labels = [\"ham\", \"spam\"] \n",
        "\n",
        "sns.heatmap(confusion_matrix(y_test, prediction), annot=True, fmt=\"d\", cmap='BuPu', xticklabels=x_axis_labels, yticklabels=y_axis_labels)\n",
        "plt.xlabel(\"true labels\")\n",
        "plt.ylabel(\"predicted label\")\n",
        "\n",
        "plt.show()\n",
        "print(\"\\n\")\n",
        "print(\"\\t\\tClassification report\\n\")\n",
        "print(classification_report(y_test, prediction))\n",
        "print(\"\\n------------------------------------------------------------------------------------------\\n\")\n"
      ],
      "metadata": {
        "colab": {
          "base_uri": "https://localhost:8080/",
          "height": 1000
        },
        "id": "dzWvfk8g5LO7",
        "outputId": "dd6b6401-2fb0-4fee-c2e1-b5581a717b98"
      },
      "execution_count": 144,
      "outputs": [
        {
          "output_type": "stream",
          "name": "stdout",
          "text": [
            "\u001b[1mLinear SVC using counting word occurence   \u001b[0m\n",
            "accuracy: 98.07%\n"
          ]
        },
        {
          "output_type": "display_data",
          "data": {
            "text/plain": [
              "<Figure size 432x288 with 2 Axes>"
            ],
            "image/png": "[encoded data removed]"
          },
          "metadata": {
            "needs_background": "light"
          }
        },
        {
          "output_type": "stream",
          "name": "stdout",
          "text": [
            "\n",
            "\n",
            "\t\tClassification report\n",
            "\n",
            "              precision    recall  f1-score   support\n",
            "\n",
            "         ham       0.98      1.00      0.99       898\n",
            "        spam       0.98      0.88      0.92       136\n",
            "\n",
            "    accuracy                           0.98      1034\n",
            "   macro avg       0.98      0.94      0.96      1034\n",
            "weighted avg       0.98      0.98      0.98      1034\n",
            "\n",
            "\n",
            "------------------------------------------------------------------------------------------\n",
            "\n",
            "\u001b[1mLinear SVC using normalized count occurence   \u001b[0m\n",
            "accuracy: 97.68%\n"
          ]
        },
        {
          "output_type": "display_data",
          "data": {
            "text/plain": [
              "<Figure size 432x288 with 2 Axes>"
            ],
            "image/png": "[encoded data removed]"
          },
          "metadata": {
            "needs_background": "light"
          }
        },
        {
          "output_type": "stream",
          "name": "stdout",
          "text": [
            "\n",
            "\n",
            "\t\tClassification report\n",
            "\n",
            "              precision    recall  f1-score   support\n",
            "\n",
            "         ham       0.98      0.99      0.99       898\n",
            "        spam       0.95      0.87      0.91       136\n",
            "\n",
            "    accuracy                           0.98      1034\n",
            "   macro avg       0.97      0.93      0.95      1034\n",
            "weighted avg       0.98      0.98      0.98      1034\n",
            "\n",
            "\n",
            "--------------------------------------------------------------------------------------------\n",
            "\n",
            "\u001b[1mLinear SVC using TFIDF   \u001b[0m\n",
            "accuracy: 97.68%\n"
          ]
        },
        {
          "output_type": "display_data",
          "data": {
            "text/plain": [
              "<Figure size 432x288 with 2 Axes>"
            ],
            "image/png": "[encoded data removed]"
          },
          "metadata": {
            "needs_background": "light"
          }
        },
        {
          "output_type": "stream",
          "name": "stdout",
          "text": [
            "\n",
            "\n",
            "\t\tClassification report\n",
            "\n",
            "              precision    recall  f1-score   support\n",
            "\n",
            "         ham       0.98      0.99      0.99       898\n",
            "        spam       0.96      0.86      0.91       136\n",
            "\n",
            "    accuracy                           0.98      1034\n",
            "   macro avg       0.97      0.93      0.95      1034\n",
            "weighted avg       0.98      0.98      0.98      1034\n",
            "\n",
            "\n",
            "------------------------------------------------------------------------------------------\n",
            "\n",
            "\u001b[1mLinear SVC Classifier using counting word occurence with 2-grams   \u001b[0m\n",
            "accuracy: 94.1%\n"
          ]
        },
        {
          "output_type": "display_data",
          "data": {
            "text/plain": [
              "<Figure size 432x288 with 2 Axes>"
            ],
            "image/png": "[encoded data removed]"
          },
          "metadata": {
            "needs_background": "light"
          }
        },
        {
          "output_type": "stream",
          "name": "stdout",
          "text": [
            "\n",
            "\n",
            "\t\tClassification report\n",
            "\n",
            "              precision    recall  f1-score   support\n",
            "\n",
            "         ham       0.94      1.00      0.97       898\n",
            "        spam       1.00      0.55      0.71       136\n",
            "\n",
            "    accuracy                           0.94      1034\n",
            "   macro avg       0.97      0.78      0.84      1034\n",
            "weighted avg       0.94      0.94      0.93      1034\n",
            "\n",
            "\n",
            "------------------------------------------------------------------------------------------\n",
            "\n"
          ]
        }
      ]
    },
    {
      "cell_type": "markdown",
      "source": [
        "## Naive Bayes Classifier"
      ],
      "metadata": {
        "id": "ipYKuWlR1WdY"
      }
    },
    {
      "cell_type": "code",
      "source": [
        "print('\\033[1mNaive Bayes Classifier using counting word occurence   \\033[0m')\n",
        "\n",
        "# Split Dataset for training and testing\n",
        "x_train,x_test,y_train,y_test = train_test_split(data['text'], data.label, test_size=0.2, random_state=41)\n",
        "\n",
        "pipe = Pipeline([('vect', CountVectorizer()), # Converts text into numeric format to feed in models\n",
        "                 ('model', MultinomialNB())]) # Model Classifier\n",
        "\n",
        "# Fitting of pipeline\n",
        "model = pipe.fit(x_train, y_train)\n",
        "prediction = model.predict(x_test)\n",
        "\n",
        "print(\"accuracy: {}%\".format(round(accuracy_score(y_test, prediction)*100,2)))\n",
        "\n",
        "x_axis_labels = [\"ham\", \"spam\"]\n",
        "y_axis_labels = [\"ham\", \"spam\"] \n",
        "\n",
        "sns.heatmap(confusion_matrix(y_test, prediction), annot=True, fmt=\"d\", cmap='BuPu', xticklabels=x_axis_labels, yticklabels=y_axis_labels)\n",
        "plt.xlabel(\"true labels\")\n",
        "plt.ylabel(\"predicted label\")\n",
        "\n",
        "plt.show()\n",
        "print(\"\\n\")\n",
        "print(\"\\t\\tClassification report\\n\")\n",
        "print(classification_report(y_test, prediction))\n",
        "print(\"\\n------------------------------------------------------------------------------------------\\n\")\n",
        "\n",
        "print('\\033[1mNaive Bayes Classifier using normalized count occurence   \\033[0m')\n",
        "# Split Dataset for training and testing\n",
        "x_train,x_test,y_train,y_test = train_test_split(data['text'], data.label, test_size=0.2, random_state=41)\n",
        "\n",
        "pipe = Pipeline([('vect', TfidfVectorizer(use_idf=False, norm=\"l2\")), # Converts text into numeric format to feed in models\n",
        "                 ('model', MultinomialNB())]) # Model Classifier\n",
        "\n",
        "# Fitting of pipeline\n",
        "model = pipe.fit(x_train, y_train)\n",
        "prediction = model.predict(x_test)\n",
        "print(\"accuracy: {}%\".format(round(accuracy_score(y_test, prediction)*100,2)))\n",
        "\n",
        "x_axis_labels = [\"ham\", \"spam\"]\n",
        "y_axis_labels = [\"ham\", \"spam\"] \n",
        "\n",
        "sns.heatmap(confusion_matrix(y_test, prediction), annot=True, fmt=\"d\", cmap='BuPu', xticklabels=x_axis_labels, yticklabels=y_axis_labels)\n",
        "plt.xlabel(\"true labels\")\n",
        "plt.ylabel(\"predicted label\")\n",
        "\n",
        "plt.show()\n",
        "print(\"\\n\")\n",
        "print(\"\\t\\tClassification report\\n\")\n",
        "print(classification_report(y_test, prediction))\n",
        "print(\"\\n--------------------------------------------------------------------------------------------\\n\")\n",
        "\n",
        "print('\\033[1mNaive Bayes Classifier using TFIDF   \\033[0m')\n",
        "# Split Dataset for training and testing\n",
        "x_train,x_test,y_train,y_test = train_test_split(data['text'], data.label, test_size=0.2, random_state=41)\n",
        "\n",
        "pipe = Pipeline([('vect', CountVectorizer()), # Converts text into numeric format to feed in models\n",
        "                 ('tfidf', TfidfTransformer()), # Technique to extract features from data\n",
        "                 ('model', MultinomialNB())]) # Model Classifier\n",
        "\n",
        "# Fitting of pipeline\n",
        "model = pipe.fit(x_train, y_train)\n",
        "prediction = model.predict(x_test)\n",
        "print(\"accuracy: {}%\".format(round(accuracy_score(y_test, prediction)*100,2)))\n",
        "\n",
        "x_axis_labels = [\"ham\", \"spam\"]\n",
        "y_axis_labels = [\"ham\", \"spam\"] \n",
        "\n",
        "sns.heatmap(confusion_matrix(y_test, prediction), annot=True, fmt=\"d\", cmap='BuPu', xticklabels=x_axis_labels, yticklabels=y_axis_labels)\n",
        "plt.xlabel(\"true labels\")\n",
        "plt.ylabel(\"predicted label\")\n",
        "\n",
        "plt.show()\n",
        "print(\"\\n\")\n",
        "print(\"\\t\\tClassification report\\n\")\n",
        "print(classification_report(y_test, prediction))\n",
        "\n",
        "print(\"\\n--------------------------------------------------------------------------------------------\\n\")\n",
        "\n",
        "print('\\033[1mNaive Bayes Classifier using counting word occurence with 2-gram   \\033[0m')\n",
        "\n",
        "# Split Dataset for training and testing\n",
        "x_train,x_test,y_train,y_test = train_test_split(data['text'], data.label, test_size=0.2, random_state=41)\n",
        "\n",
        "pipe = Pipeline([('vect', CountVectorizer(ngram_range=(2,2))), # Converts text into numeric format to feed in models\n",
        "                 ('model', MultinomialNB())]) # Model Classifier\n",
        "\n",
        "# Fitting of pipeline\n",
        "model = pipe.fit(x_train, y_train)\n",
        "prediction = model.predict(x_test)\n",
        "\n",
        "print(\"accuracy: {}%\".format(round(accuracy_score(y_test, prediction)*100,2)))\n",
        "\n",
        "x_axis_labels = [\"ham\", \"spam\"]\n",
        "y_axis_labels = [\"ham\", \"spam\"] \n",
        "\n",
        "sns.heatmap(confusion_matrix(y_test, prediction), annot=True, fmt=\"d\", cmap='BuPu', xticklabels=x_axis_labels, yticklabels=y_axis_labels)\n",
        "plt.xlabel(\"true labels\")\n",
        "plt.ylabel(\"predicted label\")\n",
        "\n",
        "plt.show()\n",
        "print(\"\\n\")\n",
        "print(\"\\t\\tClassification report\\n\")\n",
        "print(classification_report(y_test, prediction))\n",
        "print(\"\\n------------------------------------------------------------------------------------------\\n\")\n",
        "\n"
      ],
      "metadata": {
        "colab": {
          "base_uri": "https://localhost:8080/",
          "height": 1000
        },
        "id": "_dHBwgGTcwjq",
        "outputId": "ab39e695-add8-43c7-ebd3-d5b68e32a802"
      },
      "execution_count": 145,
      "outputs": [
        {
          "output_type": "stream",
          "name": "stdout",
          "text": [
            "\u001b[1mNaive Bayes Classifier using counting word occurence   \u001b[0m\n",
            "accuracy: 97.49%\n"
          ]
        },
        {
          "output_type": "display_data",
          "data": {
            "text/plain": [
              "<Figure size 432x288 with 2 Axes>"
            ],
            "image/png": "[encoded data removed]"
          },
          "metadata": {
            "needs_background": "light"
          }
        },
        {
          "output_type": "stream",
          "name": "stdout",
          "text": [
            "\n",
            "\n",
            "\t\tClassification report\n",
            "\n",
            "              precision    recall  f1-score   support\n",
            "\n",
            "         ham       0.98      0.99      0.99       898\n",
            "        spam       0.93      0.88      0.90       136\n",
            "\n",
            "    accuracy                           0.97      1034\n",
            "   macro avg       0.96      0.93      0.94      1034\n",
            "weighted avg       0.97      0.97      0.97      1034\n",
            "\n",
            "\n",
            "------------------------------------------------------------------------------------------\n",
            "\n",
            "\u001b[1mNaive Bayes Classifier using normalized count occurence   \u001b[0m\n",
            "accuracy: 95.26%\n"
          ]
        },
        {
          "output_type": "display_data",
          "data": {
            "text/plain": [
              "<Figure size 432x288 with 2 Axes>"
            ],
            "image/png": "[encoded data removed]"
          },
          "metadata": {
            "needs_background": "light"
          }
        },
        {
          "output_type": "stream",
          "name": "stdout",
          "text": [
            "\n",
            "\n",
            "\t\tClassification report\n",
            "\n",
            "              precision    recall  f1-score   support\n",
            "\n",
            "         ham       0.95      1.00      0.97       898\n",
            "        spam       1.00      0.64      0.78       136\n",
            "\n",
            "    accuracy                           0.95      1034\n",
            "   macro avg       0.97      0.82      0.88      1034\n",
            "weighted avg       0.96      0.95      0.95      1034\n",
            "\n",
            "\n",
            "--------------------------------------------------------------------------------------------\n",
            "\n",
            "\u001b[1mNaive Bayes Classifier using TFIDF   \u001b[0m\n",
            "accuracy: 95.26%\n"
          ]
        },
        {
          "output_type": "display_data",
          "data": {
            "text/plain": [
              "<Figure size 432x288 with 2 Axes>"
            ],
            "image/png": "[encoded data removed]"
          },
          "metadata": {
            "needs_background": "light"
          }
        },
        {
          "output_type": "stream",
          "name": "stdout",
          "text": [
            "\n",
            "\n",
            "\t\tClassification report\n",
            "\n",
            "              precision    recall  f1-score   support\n",
            "\n",
            "         ham       0.95      1.00      0.97       898\n",
            "        spam       1.00      0.64      0.78       136\n",
            "\n",
            "    accuracy                           0.95      1034\n",
            "   macro avg       0.97      0.82      0.88      1034\n",
            "weighted avg       0.96      0.95      0.95      1034\n",
            "\n",
            "\n",
            "--------------------------------------------------------------------------------------------\n",
            "\n",
            "\u001b[1mNaive Bayes Classifier using counting word occurence with 2-gram   \u001b[0m\n",
            "accuracy: 96.91%\n"
          ]
        },
        {
          "output_type": "display_data",
          "data": {
            "text/plain": [
              "<Figure size 432x288 with 2 Axes>"
            ],
            "image/png": "[encoded data removed]"
          },
          "metadata": {
            "needs_background": "light"
          }
        },
        {
          "output_type": "stream",
          "name": "stdout",
          "text": [
            "\n",
            "\n",
            "\t\tClassification report\n",
            "\n",
            "              precision    recall  f1-score   support\n",
            "\n",
            "         ham       0.97      1.00      0.98       898\n",
            "        spam       0.99      0.77      0.87       136\n",
            "\n",
            "    accuracy                           0.97      1034\n",
            "   macro avg       0.98      0.89      0.93      1034\n",
            "weighted avg       0.97      0.97      0.97      1034\n",
            "\n",
            "\n",
            "------------------------------------------------------------------------------------------\n",
            "\n"
          ]
        }
      ]
    },
    {
      "cell_type": "markdown",
      "source": [
        "## Logistic Regression Classifier"
      ],
      "metadata": {
        "id": "Tn_EVQiG1qy0"
      }
    },
    {
      "cell_type": "code",
      "source": [
        "print('\\033[1mLogistic Regression Classifier using counting word occurence   \\033[0m')\n",
        "\n",
        "# Split Dataset for training and testing\n",
        "x_train,x_test,y_train,y_test = train_test_split(data['text'], data.label, test_size=0.2, random_state=41)\n",
        "\n",
        "pipe = Pipeline([('vect', CountVectorizer()), # Converts text into numeric format to feed in models\n",
        "                  ('model', LogisticRegression())]) # Model Classifier\n",
        "\n",
        "# Fitting of pipeline\n",
        "model = pipe.fit(x_train, y_train)\n",
        "prediction = model.predict(x_test)\n",
        "\n",
        "print(\"accuracy: {}%\".format(round(accuracy_score(y_test, prediction)*100,2)))\n",
        "\n",
        "x_axis_labels = [\"ham\", \"spam\"]\n",
        "y_axis_labels = [\"ham\", \"spam\"] \n",
        "\n",
        "sns.heatmap(confusion_matrix(y_test, prediction), annot=True, fmt=\"d\", cmap='BuPu', xticklabels=x_axis_labels, yticklabels=y_axis_labels)\n",
        "plt.xlabel(\"true labels\")\n",
        "plt.ylabel(\"predicted label\")\n",
        "\n",
        "plt.show()\n",
        "print(\"\\n\")\n",
        "print(\"\\t\\tClassification report\\n\")\n",
        "print(classification_report(y_test, prediction))\n",
        "print(\"\\n------------------------------------------------------------------------------------------\\n\")\n",
        "\n",
        "print('\\033[1mLogistic Regression Classifier using normalized count occurence   \\033[0m')\n",
        "# Split Dataset for training and testing\n",
        "x_train,x_test,y_train,y_test = train_test_split(data['text'], data.label, test_size=0.2, random_state=41)\n",
        "\n",
        "pipe = Pipeline([('vect', TfidfVectorizer(use_idf=False, norm=\"l2\")), # Converts text into numeric format to feed in models\n",
        "                  ('model', LogisticRegression())]) # Model Classifier\n",
        "\n",
        "# Fitting of pipeline\n",
        "model = pipe.fit(x_train, y_train)\n",
        "prediction = model.predict(x_test)\n",
        "print(\"accuracy: {}%\".format(round(accuracy_score(y_test, prediction)*100,2)))\n",
        "\n",
        "x_axis_labels = [\"ham\", \"spam\"]\n",
        "y_axis_labels = [\"ham\", \"spam\"] \n",
        "\n",
        "sns.heatmap(confusion_matrix(y_test, prediction), annot=True, fmt=\"d\", cmap='BuPu', xticklabels=x_axis_labels, yticklabels=y_axis_labels)\n",
        "plt.xlabel(\"true labels\")\n",
        "plt.ylabel(\"predicted label\")\n",
        "\n",
        "plt.show()\n",
        "print(\"\\n\")\n",
        "print(\"\\t\\tClassification report\\n\")\n",
        "print(classification_report(y_test, prediction))\n",
        "print(\"\\n--------------------------------------------------------------------------------------------\\n\")\n",
        "\n",
        "print('\\033[1mLogistic Regression Classifier Classifier using TFIDF   \\033[0m')\n",
        "# Split Dataset for training and testing\n",
        "x_train,x_test,y_train,y_test = train_test_split(data['text'], data.label, test_size=0.2, random_state=41)\n",
        "\n",
        "pipe = Pipeline([('vect', CountVectorizer()), # Converts text into numeric format to feed in models\n",
        "                 ('tfidf', TfidfTransformer()), # Technique to extract features from data\n",
        "                 ('model', LogisticRegression())]) # Model Classifier\n",
        "\n",
        "# Fitting of pipeline\n",
        "model = pipe.fit(x_train, y_train)\n",
        "prediction = model.predict(x_test)\n",
        "print(\"accuracy: {}%\".format(round(accuracy_score(y_test, prediction)*100,2)))\n",
        "\n",
        "x_axis_labels = [\"ham\", \"spam\"]\n",
        "y_axis_labels = [\"ham\", \"spam\"] \n",
        "\n",
        "sns.heatmap(confusion_matrix(y_test, prediction), annot=True, fmt=\"d\", cmap='BuPu', xticklabels=x_axis_labels, yticklabels=y_axis_labels)\n",
        "plt.xlabel(\"true labels\")\n",
        "plt.ylabel(\"predicted label\")\n",
        "\n",
        "plt.show()\n",
        "print(\"\\n\")\n",
        "print(\"\\t\\tClassification report\\n\")\n",
        "print(classification_report(y_test, prediction))\n",
        "\n",
        "print(\"\\n------------------------------------------------------------------------------------------\\n\")\n",
        "print('\\033[1mLogistic Regression Classifier using counting word occurence with 2-grams   \\033[0m')\n",
        "\n",
        "# Split Dataset for training and testing\n",
        "x_train,x_test,y_train,y_test = train_test_split(data['text'], data.label, test_size=0.2, random_state=41)\n",
        "\n",
        "pipe = Pipeline([('vect', CountVectorizer(ngram_range=(2,2))), # Converts text into numeric format to feed in models\n",
        "                ('model', LogisticRegression())]) # Model Classifier\n",
        "\n",
        "# Fitting of pipeline\n",
        "model = pipe.fit(x_train, y_train)\n",
        "prediction = model.predict(x_test)\n",
        "\n",
        "print(\"accuracy: {}%\".format(round(accuracy_score(y_test, prediction)*100,2)))\n",
        "\n",
        "x_axis_labels = [\"ham\", \"spam\"]\n",
        "y_axis_labels = [\"ham\", \"spam\"] \n",
        "\n",
        "sns.heatmap(confusion_matrix(y_test, prediction), annot=True, fmt=\"d\", cmap='BuPu', xticklabels=x_axis_labels, yticklabels=y_axis_labels)\n",
        "plt.xlabel(\"true labels\")\n",
        "plt.ylabel(\"predicted label\")\n",
        "\n",
        "plt.show()\n",
        "print(\"\\n\")\n",
        "print(\"\\t\\tClassification report\\n\")\n",
        "print(classification_report(y_test, prediction))\n",
        "print(\"\\n------------------------------------------------------------------------------------------\\n\")\n"
      ],
      "metadata": {
        "colab": {
          "base_uri": "https://localhost:8080/",
          "height": 1000
        },
        "id": "jj7hMZdrd3iq",
        "outputId": "4924b298-e0fd-4952-e351-296339d52429"
      },
      "execution_count": 146,
      "outputs": [
        {
          "output_type": "stream",
          "name": "stdout",
          "text": [
            "\u001b[1mLogistic Regression Classifier using counting word occurence   \u001b[0m\n",
            "accuracy: 97.78%\n"
          ]
        },
        {
          "output_type": "display_data",
          "data": {
            "text/plain": [
              "<Figure size 432x288 with 2 Axes>"
            ],
            "image/png": "[encoded data removed]"
          },
          "metadata": {
            "needs_background": "light"
          }
        },
        {
          "output_type": "stream",
          "name": "stdout",
          "text": [
            "\n",
            "\n",
            "\t\tClassification report\n",
            "\n",
            "              precision    recall  f1-score   support\n",
            "\n",
            "         ham       0.98      1.00      0.99       898\n",
            "        spam       0.97      0.86      0.91       136\n",
            "\n",
            "    accuracy                           0.98      1034\n",
            "   macro avg       0.97      0.93      0.95      1034\n",
            "weighted avg       0.98      0.98      0.98      1034\n",
            "\n",
            "\n",
            "------------------------------------------------------------------------------------------\n",
            "\n",
            "\u001b[1mLogistic Regression Classifier using normalized count occurence   \u001b[0m\n",
            "accuracy: 96.42%\n"
          ]
        },
        {
          "output_type": "display_data",
          "data": {
            "text/plain": [
              "<Figure size 432x288 with 2 Axes>"
            ],
            "image/png": "[encoded data removed]"
          },
          "metadata": {
            "needs_background": "light"
          }
        },
        {
          "output_type": "stream",
          "name": "stdout",
          "text": [
            "\n",
            "\n",
            "\t\tClassification report\n",
            "\n",
            "              precision    recall  f1-score   support\n",
            "\n",
            "         ham       0.96      1.00      0.98       898\n",
            "        spam       0.96      0.76      0.85       136\n",
            "\n",
            "    accuracy                           0.96      1034\n",
            "   macro avg       0.96      0.88      0.91      1034\n",
            "weighted avg       0.96      0.96      0.96      1034\n",
            "\n",
            "\n",
            "--------------------------------------------------------------------------------------------\n",
            "\n",
            "\u001b[1mLogistic Regression Classifier Classifier using TFIDF   \u001b[0m\n",
            "accuracy: 95.84%\n"
          ]
        },
        {
          "output_type": "display_data",
          "data": {
            "text/plain": [
              "<Figure size 432x288 with 2 Axes>"
            ],
            "image/png": "[encoded data removed]"
          },
          "metadata": {
            "needs_background": "light"
          }
        },
        {
          "output_type": "stream",
          "name": "stdout",
          "text": [
            "\n",
            "\n",
            "\t\tClassification report\n",
            "\n",
            "              precision    recall  f1-score   support\n",
            "\n",
            "         ham       0.96      1.00      0.98       898\n",
            "        spam       0.98      0.70      0.82       136\n",
            "\n",
            "    accuracy                           0.96      1034\n",
            "   macro avg       0.97      0.85      0.90      1034\n",
            "weighted avg       0.96      0.96      0.96      1034\n",
            "\n",
            "\n",
            "------------------------------------------------------------------------------------------\n",
            "\n",
            "\u001b[1mLogistic Regression Classifier using counting word occurence with 2-grams   \u001b[0m\n",
            "accuracy: 92.55%\n"
          ]
        },
        {
          "output_type": "display_data",
          "data": {
            "text/plain": [
              "<Figure size 432x288 with 2 Axes>"
            ],
            "image/png": "[encoded data removed]"
          },
          "metadata": {
            "needs_background": "light"
          }
        },
        {
          "output_type": "stream",
          "name": "stdout",
          "text": [
            "\n",
            "\n",
            "\t\tClassification report\n",
            "\n",
            "              precision    recall  f1-score   support\n",
            "\n",
            "         ham       0.92      1.00      0.96       898\n",
            "        spam       1.00      0.43      0.61       136\n",
            "\n",
            "    accuracy                           0.93      1034\n",
            "   macro avg       0.96      0.72      0.78      1034\n",
            "weighted avg       0.93      0.93      0.91      1034\n",
            "\n",
            "\n",
            "------------------------------------------------------------------------------------------\n",
            "\n"
          ]
        }
      ]
    },
    {
      "cell_type": "markdown",
      "source": [
        "## Decision Tree Classifier"
      ],
      "metadata": {
        "id": "Y00Pm59z2k-d"
      }
    },
    {
      "cell_type": "code",
      "source": [
        "print('\\033[1mDecision Tree Classifier using counting word occurence   \\033[0m')\n",
        "\n",
        "# Split Dataset for training and testing\n",
        "x_train,x_test,y_train,y_test = train_test_split(data['text'], data.label, test_size=0.2, random_state=41)\n",
        "\n",
        "pipe = Pipeline([('vect', CountVectorizer()), # Converts text into numeric format to feed in models\n",
        "                   ('model', DecisionTreeClassifier(criterion= 'entropy',\n",
        "                                           max_depth = 10, \n",
        "                                           splitter='best', \n",
        "                                           random_state=41))]) # Model Classifier\n",
        "\n",
        "# Fitting of pipeline\n",
        "model = pipe.fit(x_train, y_train)\n",
        "prediction = model.predict(x_test)\n",
        "\n",
        "print(\"accuracy: {}%\".format(round(accuracy_score(y_test, prediction)*100,2)))\n",
        "\n",
        "x_axis_labels = [\"ham\", \"spam\"]\n",
        "y_axis_labels = [\"ham\", \"spam\"] \n",
        "\n",
        "sns.heatmap(confusion_matrix(y_test, prediction), annot=True, fmt=\"d\", cmap='BuPu', xticklabels=x_axis_labels, yticklabels=y_axis_labels)\n",
        "plt.xlabel(\"true labels\")\n",
        "plt.ylabel(\"predicted label\")\n",
        "\n",
        "plt.show()\n",
        "print(\"\\n\")\n",
        "print(\"\\t\\tClassification report\\n\")\n",
        "print(classification_report(y_test, prediction))\n",
        "print(\"\\n------------------------------------------------------------------------------------------\\n\")\n",
        "\n",
        "print('\\033[1mDecision Tree Classifier using normalized count occurence   \\033[0m')\n",
        "# Split Dataset for training and testing\n",
        "x_train,x_test,y_train,y_test = train_test_split(data['text'], data.label, test_size=0.2, random_state=41)\n",
        "\n",
        "pipe = Pipeline([('vect', TfidfVectorizer(use_idf=False, norm=\"l2\")), # Converts text into numeric format to feed in models\n",
        "                   ('model', DecisionTreeClassifier(criterion= 'entropy',\n",
        "                                           max_depth = 10, \n",
        "                                           splitter='best', \n",
        "                                           random_state=41))]) # Model Classifier\n",
        "\n",
        "# Fitting of pipeline\n",
        "model = pipe.fit(x_train, y_train)\n",
        "prediction = model.predict(x_test)\n",
        "print(\"accuracy: {}%\".format(round(accuracy_score(y_test, prediction)*100,2)))\n",
        "\n",
        "x_axis_labels = [\"ham\", \"spam\"]\n",
        "y_axis_labels = [\"ham\", \"spam\"] \n",
        "\n",
        "sns.heatmap(confusion_matrix(y_test, prediction), annot=True, fmt=\"d\", cmap='BuPu', xticklabels=x_axis_labels, yticklabels=y_axis_labels)\n",
        "plt.xlabel(\"true labels\")\n",
        "plt.ylabel(\"predicted label\")\n",
        "\n",
        "plt.show()\n",
        "print(\"\\n\")\n",
        "print(\"\\t\\tClassification report\\n\")\n",
        "print(classification_report(y_test, prediction))\n",
        "print(\"\\n--------------------------------------------------------------------------------------------\\n\")\n",
        "\n",
        "print('\\033[1mDecision Tree Classifier using TFIDF   \\033[0m')\n",
        "# Split Dataset for training and testing\n",
        "x_train,x_test,y_train,y_test = train_test_split(data['text'], data.label, test_size=0.2, random_state=41)\n",
        "\n",
        "pipe = Pipeline([('vect', CountVectorizer()), # Converts text into numeric format to feed in models\n",
        "                 ('tfidf', TfidfTransformer()), # Technique to extract features from data\n",
        "                  ('model', DecisionTreeClassifier(criterion= 'entropy',\n",
        "                                           max_depth = 10, \n",
        "                                           splitter='best', \n",
        "                                           random_state=41))]) # Model Classifier\n",
        "\n",
        "# Fitting of pipeline\n",
        "model = pipe.fit(x_train, y_train)\n",
        "prediction = model.predict(x_test)\n",
        "print(\"accuracy: {}%\".format(round(accuracy_score(y_test, prediction)*100,2)))\n",
        "\n",
        "x_axis_labels = [\"ham\", \"spam\"]\n",
        "y_axis_labels = [\"ham\", \"spam\"] \n",
        "\n",
        "sns.heatmap(confusion_matrix(y_test, prediction), annot=True, fmt=\"d\", cmap='BuPu', xticklabels=x_axis_labels, yticklabels=y_axis_labels)\n",
        "plt.xlabel(\"true labels\")\n",
        "plt.ylabel(\"predicted label\")\n",
        "\n",
        "plt.show()\n",
        "print(\"\\n\")\n",
        "print(\"\\t\\tClassification report\\n\")\n",
        "print(classification_report(y_test, prediction))\n",
        "\n",
        "\n",
        "print(\"\\n------------------------------------------------------------------------------------------\\n\")\n",
        "print('\\033[1mDecision Tree Classifier using counting word occurence with 2-grams   \\033[0m')\n",
        "\n",
        "# Split Dataset for training and testing\n",
        "x_train,x_test,y_train,y_test = train_test_split(data['text'], data.label, test_size=0.2, random_state=41)\n",
        "\n",
        "pipe = Pipeline([('vect', CountVectorizer(ngram_range=(2,2))), # Converts text into numeric format to feed in models\n",
        "                ('model', DecisionTreeClassifier(criterion= 'entropy',\n",
        "                                           max_depth = 10, \n",
        "                                           splitter='best', \n",
        "                                           random_state=41))]) # Model Classifier\n",
        "\n",
        "# Fitting of pipeline\n",
        "model = pipe.fit(x_train, y_train)\n",
        "prediction = model.predict(x_test)\n",
        "\n",
        "print(\"accuracy: {}%\".format(round(accuracy_score(y_test, prediction)*100,2)))\n",
        "\n",
        "x_axis_labels = [\"ham\", \"spam\"]\n",
        "y_axis_labels = [\"ham\", \"spam\"] \n",
        "\n",
        "sns.heatmap(confusion_matrix(y_test, prediction), annot=True, fmt=\"d\", cmap='BuPu', xticklabels=x_axis_labels, yticklabels=y_axis_labels)\n",
        "plt.xlabel(\"true labels\")\n",
        "plt.ylabel(\"predicted label\")\n",
        "\n",
        "plt.show()\n",
        "print(\"\\n\")\n",
        "print(\"\\t\\tClassification report\\n\")\n",
        "print(classification_report(y_test, prediction))\n",
        "print(\"\\n------------------------------------------------------------------------------------------\\n\")\n",
        "\n"
      ],
      "metadata": {
        "colab": {
          "base_uri": "https://localhost:8080/",
          "height": 1000
        },
        "id": "sT5lC6R5ef-a",
        "outputId": "3a8d596a-f71b-4c17-9f68-ae73ba2e11fb"
      },
      "execution_count": 147,
      "outputs": [
        {
          "output_type": "stream",
          "name": "stdout",
          "text": [
            "\u001b[1mDecision Tree Classifier using counting word occurence   \u001b[0m\n",
            "accuracy: 94.2%\n"
          ]
        },
        {
          "output_type": "display_data",
          "data": {
            "text/plain": [
              "<Figure size 432x288 with 2 Axes>"
            ],
            "image/png": "[encoded data removed]"
          },
          "metadata": {
            "needs_background": "light"
          }
        },
        {
          "output_type": "stream",
          "name": "stdout",
          "text": [
            "\n",
            "\n",
            "\t\tClassification report\n",
            "\n",
            "              precision    recall  f1-score   support\n",
            "\n",
            "         ham       0.95      0.99      0.97       898\n",
            "        spam       0.87      0.65      0.75       136\n",
            "\n",
            "    accuracy                           0.94      1034\n",
            "   macro avg       0.91      0.82      0.86      1034\n",
            "weighted avg       0.94      0.94      0.94      1034\n",
            "\n",
            "\n",
            "------------------------------------------------------------------------------------------\n",
            "\n",
            "\u001b[1mDecision Tree Classifier using normalized count occurence   \u001b[0m\n",
            "accuracy: 94.2%\n"
          ]
        },
        {
          "output_type": "display_data",
          "data": {
            "text/plain": [
              "<Figure size 432x288 with 2 Axes>"
            ],
            "image/png": "[encoded data removed]"
          },
          "metadata": {
            "needs_background": "light"
          }
        },
        {
          "output_type": "stream",
          "name": "stdout",
          "text": [
            "\n",
            "\n",
            "\t\tClassification report\n",
            "\n",
            "              precision    recall  f1-score   support\n",
            "\n",
            "         ham       0.96      0.98      0.97       898\n",
            "        spam       0.83      0.71      0.76       136\n",
            "\n",
            "    accuracy                           0.94      1034\n",
            "   macro avg       0.89      0.84      0.86      1034\n",
            "weighted avg       0.94      0.94      0.94      1034\n",
            "\n",
            "\n",
            "--------------------------------------------------------------------------------------------\n",
            "\n",
            "\u001b[1mDecision Tree Classifier using TFIDF   \u001b[0m\n",
            "accuracy: 94.39%\n"
          ]
        },
        {
          "output_type": "display_data",
          "data": {
            "text/plain": [
              "<Figure size 432x288 with 2 Axes>"
            ],
            "image/png": "[encoded data removed]"
          },
          "metadata": {
            "needs_background": "light"
          }
        },
        {
          "output_type": "stream",
          "name": "stdout",
          "text": [
            "\n",
            "\n",
            "\t\tClassification report\n",
            "\n",
            "              precision    recall  f1-score   support\n",
            "\n",
            "         ham       0.95      0.98      0.97       898\n",
            "        spam       0.86      0.68      0.76       136\n",
            "\n",
            "    accuracy                           0.94      1034\n",
            "   macro avg       0.91      0.83      0.87      1034\n",
            "weighted avg       0.94      0.94      0.94      1034\n",
            "\n",
            "\n",
            "------------------------------------------------------------------------------------------\n",
            "\n",
            "\u001b[1mDecision Tree Classifier using counting word occurence with 2-grams   \u001b[0m\n",
            "accuracy: 89.46%\n"
          ]
        },
        {
          "output_type": "display_data",
          "data": {
            "text/plain": [
              "<Figure size 432x288 with 2 Axes>"
            ],
            "image/png": "[encoded data removed]"
          },
          "metadata": {
            "needs_background": "light"
          }
        },
        {
          "output_type": "stream",
          "name": "stdout",
          "text": [
            "\n",
            "\n",
            "\t\tClassification report\n",
            "\n",
            "              precision    recall  f1-score   support\n",
            "\n",
            "         ham       0.89      1.00      0.94       898\n",
            "        spam       0.94      0.21      0.35       136\n",
            "\n",
            "    accuracy                           0.89      1034\n",
            "   macro avg       0.91      0.61      0.64      1034\n",
            "weighted avg       0.90      0.89      0.86      1034\n",
            "\n",
            "\n",
            "------------------------------------------------------------------------------------------\n",
            "\n"
          ]
        }
      ]
    },
    {
      "cell_type": "markdown",
      "source": [
        "## KNN Classifier"
      ],
      "metadata": {
        "id": "d3nDQzklLcLB"
      }
    },
    {
      "cell_type": "code",
      "source": [
        "print('\\033[1mKNN Classifier using counting word occurence   \\033[0m')\n",
        "\n",
        "# Split Dataset for training and testing\n",
        "x_train,x_test,y_train,y_test = train_test_split(data['text'], data.label, test_size=0.2, random_state=41)\n",
        "\n",
        "pipe = Pipeline([('vect', CountVectorizer()), # Converts text into numeric format to feed in models\n",
        "                   ('model', KNeighborsClassifier(n_neighbors = 10,weights = 'distance',algorithm = 'brute'))]) # Model Classifier\n",
        "\n",
        "# Fitting of pipeline\n",
        "model = pipe.fit(x_train, y_train)\n",
        "prediction = model.predict(x_test)\n",
        "\n",
        "print(\"accuracy: {}%\".format(round(accuracy_score(y_test, prediction)*100,2)))\n",
        "\n",
        "x_axis_labels = [\"ham\", \"spam\"]\n",
        "y_axis_labels = [\"ham\", \"spam\"] \n",
        "\n",
        "sns.heatmap(confusion_matrix(y_test, prediction), annot=True, fmt=\"d\", cmap='BuPu', xticklabels=x_axis_labels, yticklabels=y_axis_labels)\n",
        "plt.xlabel(\"true labels\")\n",
        "plt.ylabel(\"predicted label\")\n",
        "\n",
        "plt.show()\n",
        "print(\"\\n\")\n",
        "print(\"\\t\\tClassification report\\n\")\n",
        "print(classification_report(y_test, prediction))\n",
        "print(\"\\n------------------------------------------------------------------------------------------\\n\")\n",
        "\n",
        "print('\\033[1mKNN Classifier using normalized count occurence   \\033[0m')\n",
        "# Split Dataset for training and testing\n",
        "x_train,x_test,y_train,y_test = train_test_split(data['text'], data.label, test_size=0.2, random_state=41)\n",
        "\n",
        "pipe = Pipeline([('vect', TfidfVectorizer(use_idf=False, norm=\"l2\")), # Converts text into numeric format to feed in models\n",
        "                   ('model', KNeighborsClassifier(n_neighbors = 10,weights = 'distance',algorithm = 'brute'))]) # Model Classifier\n",
        "\n",
        "# Fitting of pipeline\n",
        "model = pipe.fit(x_train, y_train)\n",
        "prediction = model.predict(x_test)\n",
        "print(\"accuracy: {}%\".format(round(accuracy_score(y_test, prediction)*100,2)))\n",
        "\n",
        "x_axis_labels = [\"ham\", \"spam\"]\n",
        "y_axis_labels = [\"ham\", \"spam\"] \n",
        "\n",
        "sns.heatmap(confusion_matrix(y_test, prediction), annot=True, fmt=\"d\", cmap='BuPu', xticklabels=x_axis_labels, yticklabels=y_axis_labels)\n",
        "plt.xlabel(\"true labels\")\n",
        "plt.ylabel(\"predicted label\")\n",
        "\n",
        "plt.show()\n",
        "print(\"\\n\")\n",
        "print(\"\\t\\tClassification report\\n\")\n",
        "print(classification_report(y_test, prediction))\n",
        "print(\"\\n--------------------------------------------------------------------------------------------\\n\")\n",
        "\n",
        "print('\\033[1mKNN Classifier using TFIDF   \\033[0m')\n",
        "# Split Dataset for training and testing\n",
        "x_train,x_test,y_train,y_test = train_test_split(data['text'], data.label, test_size=0.2, random_state=41)\n",
        "\n",
        "pipe = Pipeline([('vect', CountVectorizer()), # Converts text into numeric format to feed in models\n",
        "                 ('tfidf', TfidfTransformer()), # Technique to extract features from data\n",
        "                 ('model', KNeighborsClassifier(n_neighbors = 10,weights = 'distance',algorithm = 'brute'))]) # Model Classifier\n",
        "\n",
        "# Fitting of pipeline\n",
        "model = pipe.fit(x_train, y_train)\n",
        "prediction = model.predict(x_test)\n",
        "print(\"accuracy: {}%\".format(round(accuracy_score(y_test, prediction)*100,2)))\n",
        "\n",
        "x_axis_labels = [\"ham\", \"spam\"]\n",
        "y_axis_labels = [\"ham\", \"spam\"] \n",
        "\n",
        "sns.heatmap(confusion_matrix(y_test, prediction), annot=True, fmt=\"d\", cmap='BuPu', xticklabels=x_axis_labels, yticklabels=y_axis_labels)\n",
        "plt.xlabel(\"true labels\")\n",
        "plt.ylabel(\"predicted label\")\n",
        "\n",
        "plt.show()\n",
        "print(\"\\n\")\n",
        "print(\"\\t\\tClassification report\\n\")\n",
        "print(classification_report(y_test, prediction))\n",
        "\n",
        "print(\"\\n------------------------------------------------------------------------------------------\\n\")\n",
        "print('\\033[1mKNN Classifier using counting word occurence with 2-grams   \\033[0m')\n",
        "\n",
        "# Split Dataset for training and testing\n",
        "x_train,x_test,y_train,y_test = train_test_split(data['text'], data.label, test_size=0.2, random_state=41)\n",
        "\n",
        "pipe = Pipeline([('vect', CountVectorizer(ngram_range=(2,2))), # Converts text into numeric format to feed in models\n",
        "                ('model', KNeighborsClassifier(n_neighbors = 10,weights = 'distance',algorithm = 'brute'))]) # Model Classifier\n",
        "\n",
        "# Fitting of pipeline\n",
        "model = pipe.fit(x_train, y_train)\n",
        "prediction = model.predict(x_test)\n",
        "\n",
        "print(\"accuracy: {}%\".format(round(accuracy_score(y_test, prediction)*100,2)))\n",
        "\n",
        "x_axis_labels = [\"ham\", \"spam\"]\n",
        "y_axis_labels = [\"ham\", \"spam\"] \n",
        "\n",
        "sns.heatmap(confusion_matrix(y_test, prediction), annot=True, fmt=\"d\", cmap='BuPu', xticklabels=x_axis_labels, yticklabels=y_axis_labels)\n",
        "plt.xlabel(\"true labels\")\n",
        "plt.ylabel(\"predicted label\")\n",
        "\n",
        "plt.show()\n",
        "print(\"\\n\")\n",
        "print(\"\\t\\tClassification report\\n\")\n",
        "print(classification_report(y_test, prediction))\n",
        "print(\"\\n------------------------------------------------------------------------------------------\\n\")\n",
        "\n"
      ],
      "metadata": {
        "colab": {
          "base_uri": "https://localhost:8080/",
          "height": 1000
        },
        "id": "-anDDUuAfFDw",
        "outputId": "948f0173-114e-4d3d-f59e-e92801c806f9"
      },
      "execution_count": 148,
      "outputs": [
        {
          "output_type": "stream",
          "name": "stdout",
          "text": [
            "\u001b[1mKNN Classifier using counting word occurence   \u001b[0m\n",
            "accuracy: 91.01%\n"
          ]
        },
        {
          "output_type": "display_data",
          "data": {
            "text/plain": [
              "<Figure size 432x288 with 2 Axes>"
            ],
            "image/png": "[encoded data removed]"
          },
          "metadata": {
            "needs_background": "light"
          }
        },
        {
          "output_type": "stream",
          "name": "stdout",
          "text": [
            "\n",
            "\n",
            "\t\tClassification report\n",
            "\n",
            "              precision    recall  f1-score   support\n",
            "\n",
            "         ham       0.91      1.00      0.95       898\n",
            "        spam       1.00      0.32      0.48       136\n",
            "\n",
            "    accuracy                           0.91      1034\n",
            "   macro avg       0.95      0.66      0.72      1034\n",
            "weighted avg       0.92      0.91      0.89      1034\n",
            "\n",
            "\n",
            "------------------------------------------------------------------------------------------\n",
            "\n",
            "\u001b[1mKNN Classifier using normalized count occurence   \u001b[0m\n",
            "accuracy: 91.49%\n"
          ]
        },
        {
          "output_type": "display_data",
          "data": {
            "text/plain": [
              "<Figure size 432x288 with 2 Axes>"
            ],
            "image/png": "[encoded data removed]"
          },
          "metadata": {
            "needs_background": "light"
          }
        },
        {
          "output_type": "stream",
          "name": "stdout",
          "text": [
            "\n",
            "\n",
            "\t\tClassification report\n",
            "\n",
            "              precision    recall  f1-score   support\n",
            "\n",
            "         ham       0.91      1.00      0.95       898\n",
            "        spam       1.00      0.35      0.52       136\n",
            "\n",
            "    accuracy                           0.91      1034\n",
            "   macro avg       0.96      0.68      0.74      1034\n",
            "weighted avg       0.92      0.91      0.90      1034\n",
            "\n",
            "\n",
            "--------------------------------------------------------------------------------------------\n",
            "\n",
            "\u001b[1mKNN Classifier using TFIDF   \u001b[0m\n",
            "accuracy: 90.72%\n"
          ]
        },
        {
          "output_type": "display_data",
          "data": {
            "text/plain": [
              "<Figure size 432x288 with 2 Axes>"
            ],
            "image/png": "[encoded data removed]"
          },
          "metadata": {
            "needs_background": "light"
          }
        },
        {
          "output_type": "stream",
          "name": "stdout",
          "text": [
            "\n",
            "\n",
            "\t\tClassification report\n",
            "\n",
            "              precision    recall  f1-score   support\n",
            "\n",
            "         ham       0.90      1.00      0.95       898\n",
            "        spam       1.00      0.29      0.45       136\n",
            "\n",
            "    accuracy                           0.91      1034\n",
            "   macro avg       0.95      0.65      0.70      1034\n",
            "weighted avg       0.92      0.91      0.88      1034\n",
            "\n",
            "\n",
            "------------------------------------------------------------------------------------------\n",
            "\n",
            "\u001b[1mKNN Classifier using counting word occurence with 2-grams   \u001b[0m\n",
            "accuracy: 89.26%\n"
          ]
        },
        {
          "output_type": "display_data",
          "data": {
            "text/plain": [
              "<Figure size 432x288 with 2 Axes>"
            ],
            "image/png": "[encoded data removed]"
          },
          "metadata": {
            "needs_background": "light"
          }
        },
        {
          "output_type": "stream",
          "name": "stdout",
          "text": [
            "\n",
            "\n",
            "\t\tClassification report\n",
            "\n",
            "              precision    recall  f1-score   support\n",
            "\n",
            "         ham       0.89      1.00      0.94       898\n",
            "        spam       1.00      0.18      0.31       136\n",
            "\n",
            "    accuracy                           0.89      1034\n",
            "   macro avg       0.94      0.59      0.63      1034\n",
            "weighted avg       0.90      0.89      0.86      1034\n",
            "\n",
            "\n",
            "------------------------------------------------------------------------------------------\n",
            "\n"
          ]
        }
      ]
    }
  ]
}